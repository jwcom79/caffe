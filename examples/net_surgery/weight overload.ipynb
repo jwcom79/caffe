{
 "cells": [
  {
   "cell_type": "code",
   "execution_count": 1,
   "metadata": {
    "collapsed": true
   },
   "outputs": [],
   "source": [
    "import os\n",
    "os.chdir('../../')\n",
    "import sys\n",
    "sys.path.insert(0, './python')"
   ]
  },
  {
   "cell_type": "code",
   "execution_count": 2,
   "metadata": {
    "collapsed": true
   },
   "outputs": [],
   "source": [
    "import caffe"
   ]
  },
  {
   "cell_type": "code",
   "execution_count": 3,
   "metadata": {
    "collapsed": true
   },
   "outputs": [],
   "source": [
    "from pylab import *\n",
    "%matplotlib inline"
   ]
  },
  {
   "cell_type": "code",
   "execution_count": 4,
   "metadata": {
    "collapsed": true
   },
   "outputs": [],
   "source": [
    "caffe.set_device(0)\n",
    "caffe.set_mode_gpu()"
   ]
  },
  {
   "cell_type": "code",
   "execution_count": 5,
   "metadata": {
    "collapsed": true
   },
   "outputs": [],
   "source": [
    "solver = caffe.SGDSolver('examples/mlp/mlp_solver.prototxt')"
   ]
  },
  {
   "cell_type": "code",
   "execution_count": 6,
   "metadata": {
    "collapsed": false
   },
   "outputs": [
    {
     "data": {
      "text/plain": [
       "[('data', (100, 1, 28, 28)),\n",
       " ('label', (100,)),\n",
       " ('ip1', (100, 20)),\n",
       " ('ip2', (100, 50)),\n",
       " ('ip3', (100, 10)),\n",
       " ('loss', ())]"
      ]
     },
     "execution_count": 6,
     "metadata": {},
     "output_type": "execute_result"
    }
   ],
   "source": [
    "[(k, v.data.shape) for k, v in solver.net.blobs.items()]"
   ]
  },
  {
   "cell_type": "code",
   "execution_count": 7,
   "metadata": {
    "collapsed": false
   },
   "outputs": [
    {
     "data": {
      "text/plain": [
       "[('ip1', (20, 784)), ('ip2', (50, 20)), ('ip3', (10, 50))]"
      ]
     },
     "execution_count": 7,
     "metadata": {},
     "output_type": "execute_result"
    }
   ],
   "source": [
    "[(k, v[0].data.shape) for k, v in solver.net.params.items()]"
   ]
  },
  {
   "cell_type": "code",
   "execution_count": null,
   "metadata": {
    "collapsed": false
   },
   "outputs": [],
   "source": [
    "%%time\n",
    "niter = 500\n",
    "test_interval = 500\n",
    "train_loss = zeros(niter)\n",
    "test_acc = zeros(int(np.ceil(niter / test_interval)))\n",
    "output = zeros((niter, 8, 10))\n",
    "\n",
    "for it in range(niter):\n",
    "    solver.step(1)\n",
    "    \n",
    "    train_loss[it] = solver.net.blobs['loss'].data\n",
    "    \n",
    "    solver.test_nets[0].forward(start='ip1')\n",
    "    output[it] = solver.test_nets[0].blobs['ip3'].data[:8]\n",
    "    \n",
    "    if it % test_interval == 0:\n",
    "        print 'iteration', it, 'testing...'\n",
    "        correct = 0\n",
    "        for test_it in range(100):\n",
    "            solver.test_nets[0].forward()\n",
    "            correct += sum(solver.test_nets[0].blobs['ip3'].data.argmax(1) == solver.test_nets[0].blobs['label'].data)\n",
    "        test_acc[it // test_interval] = correct / 1e4"
   ]
  },
  {
   "cell_type": "code",
   "execution_count": null,
   "metadata": {
    "collapsed": false
   },
   "outputs": [],
   "source": [
    "solver.test_nets[0].forward()"
   ]
  },
  {
   "cell_type": "code",
   "execution_count": null,
   "metadata": {
    "collapsed": false
   },
   "outputs": [],
   "source": [
    "solver.test_nets[0].params['ip1'][0].data[10]"
   ]
  },
  {
   "cell_type": "code",
   "execution_count": null,
   "metadata": {
    "collapsed": false
   },
   "outputs": [],
   "source": [
    "solver.net.params['ip1'][0].data[10]"
   ]
  },
  {
   "cell_type": "code",
   "execution_count": null,
   "metadata": {
    "collapsed": false
   },
   "outputs": [],
   "source": [
    "_, ax1 = subplots()\n",
    "ax2 = ax1.twinx()\n",
    "ax1.plot(arange(niter), train_loss)\n",
    "ax2.plot(test_interval * arange(len(test_acc)), test_acc, 'r')\n",
    "ax1.set_xlabel('iteration')\n",
    "ax1.set_ylabel('train loss')\n",
    "ax2.set_ylabel('test accuracy')\n",
    "ax2.set_title('Test Accuracy: {:.4f}'.format(test_acc[-1]))"
   ]
  },
  {
   "cell_type": "code",
   "execution_count": 8,
   "metadata": {
    "collapsed": false
   },
   "outputs": [],
   "source": [
    "with open('examples/mlp/test/WB/10-ip1-w.txt', 'ra') as file:\n",
    "#    for line in file.readlines():\n",
    "    for x in range(10):\n",
    "        for y in range(784):\n",
    "            solver.net.params['ip1'][0].data[x,y] = file.readline()\n",
    "            solver.net.params['ip1'][0].data[x + 10,y] = solver.net.params['ip1'][0].data[x,y]\n",
    "file.close()\n",
    "with open('examples/mlp/test/WB/10-ip1-b.txt', 'ra') as file:\n",
    "    for x in range(10):\n",
    "        solver.net.params['ip1'][1].data[x] = file.readline()\n",
    "        solver.net.params['ip1'][1].data[x + 10] = solver.net.params['ip1'][1].data[x]\n",
    "file.close()"
   ]
  },
  {
   "cell_type": "code",
   "execution_count": 9,
   "metadata": {
    "collapsed": false
   },
   "outputs": [],
   "source": [
    "with open('examples/mlp/test/WB/10-ip2-w.txt', 'ra') as file:\n",
    "#    for line in file.readlines():\n",
    "    for x in range(10):\n",
    "        for y in range(10):\n",
    "            solver.net.params['ip2'][0].data[x,y] = file.readline()\n",
    "            for z in range(2):\n",
    "                for w in range(5):\n",
    "                    solver.net.params['ip2'][0].data[(w * 10) + x, (z * 10) + y] = solver.net.params['ip2'][0].data[x,y]\n",
    "            \n",
    "file.close()\n",
    "with open('examples/mlp/test/WB/10-ip2-b.txt', 'ra') as file:\n",
    "    for x in range(10):\n",
    "        solver.net.params['ip2'][1].data[x] = file.readline()\n",
    "        for z in range(5):\n",
    "            solver.net.params['ip2'][1].data[(z * 10) + x] = solver.net.params['ip2'][1].data[x]\n",
    "file.close()"
   ]
  },
  {
   "cell_type": "code",
   "execution_count": 10,
   "metadata": {
    "collapsed": true
   },
   "outputs": [],
   "source": [
    "with open('examples/mlp/test/WB/10-ip3-w.txt', 'ra') as file:\n",
    "#    for line in file.readlines():\n",
    "    for x in range(10):\n",
    "        for y in range(10):\n",
    "            solver.net.params['ip3'][0].data[x,y] = file.readline()\n",
    "            for z in range(5):\n",
    "                solver.net.params['ip3'][0].data[x, (z * 10) + y] = solver.net.params['ip3'][0].data[x,y]\n",
    "file.close()\n",
    "with open('examples/mlp/test/WB/10-ip3-b.txt', 'ra') as file:\n",
    "    for x in range(10):\n",
    "        solver.net.params['ip3'][1].data[x] = file.readline()\n",
    "file.close()"
   ]
  },
  {
   "cell_type": "code",
   "execution_count": null,
   "metadata": {
    "collapsed": false
   },
   "outputs": [],
   "source": [
    "solver.net.params['ip1'][0].data"
   ]
  },
  {
   "cell_type": "code",
   "execution_count": null,
   "metadata": {
    "collapsed": false
   },
   "outputs": [],
   "source": [
    "solver.net.params['ip1'][1].data"
   ]
  },
  {
   "cell_type": "code",
   "execution_count": 11,
   "metadata": {
    "collapsed": false
   },
   "outputs": [
    {
     "data": {
      "text/plain": [
       "{'loss': array(1.0250978469848633, dtype=float32)}"
      ]
     },
     "execution_count": 11,
     "metadata": {},
     "output_type": "execute_result"
    }
   ],
   "source": [
    "solver.net.forward()"
   ]
  },
  {
   "cell_type": "code",
   "execution_count": 21,
   "metadata": {
    "collapsed": false
   },
   "outputs": [
    {
     "data": {
      "text/plain": [
       "{'accuracy': array(0.9300000071525574, dtype=float32),\n",
       " 'loss': array(0.20491176843643188, dtype=float32)}"
      ]
     },
     "execution_count": 21,
     "metadata": {},
     "output_type": "execute_result"
    }
   ],
   "source": [
    "solver.test_nets[0].forward()"
   ]
  },
  {
   "cell_type": "code",
   "execution_count": 22,
   "metadata": {
    "collapsed": false
   },
   "outputs": [
    {
     "name": "stdout",
     "output_type": "stream",
     "text": [
      "iteration 0 testing...\n",
      "iteration 500 testing...\n",
      "iteration 1000 testing...\n",
      "iteration 1500 testing...\n",
      "iteration 2000 testing...\n",
      "iteration 2500 testing...\n",
      "iteration 3000 testing...\n",
      "iteration 3500 testing...\n",
      "iteration 4000 testing...\n",
      "iteration 4500 testing...\n",
      "iteration 5000 testing...\n",
      "iteration 5500 testing...\n",
      "iteration 6000 testing...\n",
      "iteration 6500 testing...\n",
      "iteration 7000 testing...\n",
      "iteration 7500 testing...\n",
      "iteration 8000 testing...\n",
      "iteration 8500 testing...\n",
      "iteration 9000 testing...\n",
      "iteration 9500 testing...\n",
      "iteration 10000 testing...\n",
      "iteration 10500 testing...\n",
      "iteration 11000 testing...\n",
      "iteration 11500 testing...\n",
      "iteration 12000 testing...\n",
      "iteration 12500 testing...\n",
      "iteration 13000 testing...\n",
      "iteration 13500 testing...\n",
      "iteration 14000 testing...\n",
      "iteration 14500 testing...\n",
      "iteration 15000 testing...\n",
      "iteration 15500 testing...\n",
      "iteration 16000 testing...\n",
      "iteration 16500 testing...\n",
      "iteration 17000 testing...\n",
      "iteration 17500 testing...\n",
      "iteration 18000 testing...\n",
      "iteration 18500 testing...\n",
      "iteration 19000 testing...\n",
      "iteration 19500 testing...\n",
      "iteration 20000 testing...\n",
      "iteration 20500 testing...\n",
      "iteration 21000 testing...\n",
      "iteration 21500 testing...\n",
      "iteration 22000 testing...\n",
      "iteration 22500 testing...\n",
      "iteration 23000 testing...\n",
      "iteration 23500 testing...\n",
      "iteration 24000 testing...\n",
      "iteration 24500 testing...\n",
      "iteration 25000 testing...\n",
      "iteration 25500 testing...\n",
      "iteration 26000 testing...\n",
      "iteration 26500 testing...\n",
      "iteration 27000 testing...\n",
      "iteration 27500 testing...\n",
      "iteration 28000 testing...\n",
      "iteration 28500 testing...\n",
      "iteration 29000 testing...\n",
      "iteration 29500 testing...\n",
      "iteration 30000 testing...\n",
      "iteration 30500 testing...\n",
      "iteration 31000 testing...\n",
      "iteration 31500 testing...\n",
      "iteration 32000 testing...\n",
      "iteration 32500 testing...\n",
      "iteration 33000 testing...\n",
      "iteration 33500 testing...\n",
      "iteration 34000 testing...\n",
      "iteration 34500 testing...\n",
      "iteration 35000 testing...\n",
      "iteration 35500 testing...\n",
      "iteration 36000 testing...\n",
      "iteration 36500 testing...\n",
      "iteration 37000 testing...\n",
      "iteration 37500 testing...\n",
      "iteration 38000 testing...\n",
      "iteration 38500 testing...\n",
      "iteration 39000 testing...\n",
      "iteration 39500 testing...\n",
      "iteration 40000 testing...\n",
      "iteration 40500 testing...\n",
      "iteration 41000 testing...\n",
      "iteration 41500 testing...\n",
      "iteration 42000 testing...\n",
      "iteration 42500 testing...\n",
      "iteration 43000 testing...\n",
      "iteration 43500 testing...\n",
      "iteration 44000 testing...\n",
      "iteration 44500 testing...\n",
      "iteration 45000 testing...\n",
      "iteration 45500 testing...\n",
      "iteration 46000 testing...\n",
      "iteration 46500 testing...\n",
      "iteration 47000 testing...\n",
      "iteration 47500 testing...\n",
      "iteration 48000 testing...\n",
      "iteration 48500 testing...\n",
      "iteration 49000 testing...\n",
      "iteration 49500 testing...\n",
      "CPU times: user 6min 45s, sys: 1min 18s, total: 8min 3s\n",
      "Wall time: 6min 11s\n"
     ]
    }
   ],
   "source": [
    "%%time\n",
    "niter = 50000\n",
    "test_interval = 500\n",
    "train_loss = zeros(niter)\n",
    "test_acc = zeros(int(np.ceil(niter / test_interval)))\n",
    "output = zeros((niter, 8, 10))\n",
    "\n",
    "for it in range(niter):\n",
    "    solver.step(1)\n",
    "    \n",
    "    train_loss[it] = solver.net.blobs['loss'].data\n",
    "    \n",
    "    solver.test_nets[0].forward(start='ip1')\n",
    "    output[it] = solver.test_nets[0].blobs['ip3'].data[:8]\n",
    "    \n",
    "    if it % test_interval == 0:\n",
    "        print 'iteration', it, 'testing...'\n",
    "        correct = 0\n",
    "        for test_it in range(100):\n",
    "            solver.test_nets[0].forward()\n",
    "            correct += sum(solver.test_nets[0].blobs['ip3'].data.argmax(1) == solver.test_nets[0].blobs['label'].data)\n",
    "        test_acc[it // test_interval] = correct / 1e4"
   ]
  },
  {
   "cell_type": "code",
   "execution_count": 23,
   "metadata": {
    "collapsed": false
   },
   "outputs": [
    {
     "data": {
      "text/plain": [
       "<matplotlib.text.Text at 0x7f62db6c0490>"
      ]
     },
     "execution_count": 23,
     "metadata": {},
     "output_type": "execute_result"
    },
    {
     "data": {
      "image/png": "[encoded data removed]",
      "text/plain": [
       "<matplotlib.figure.Figure at 0x7f62e8057990>"
      ]
     },
     "metadata": {},
     "output_type": "display_data"
    }
   ],
   "source": [
    "_, ax1 = subplots()\n",
    "ax2 = ax1.twinx()\n",
    "ax1.plot(arange(niter), train_loss)\n",
    "ax2.plot(test_interval * arange(len(test_acc)), test_acc, 'r')\n",
    "ax1.set_xlabel('iteration')\n",
    "ax1.set_ylabel('train loss')\n",
    "ax2.set_ylabel('test accuracy')\n",
    "ax2.set_title('Test Accuracy: {:.4f}'.format(test_acc[-1]))"
   ]
  },
  {
   "cell_type": "code",
   "execution_count": null,
   "metadata": {
    "collapsed": true
   },
   "outputs": [],
   "source": [
    "solver.net.save('examples/mlp/mymodel.caffemodel')"
   ]
  },
  {
   "cell_type": "code",
   "execution_count": null,
   "metadata": {
    "collapsed": false
   },
   "outputs": [],
   "source": [
    "feat1 = solver.net.params['ip1'][0].data\n",
    "feat2 = solver.net.params['ip2'][0].data\n",
    "feat3 = solver.net.params['ip3'][0].data\n",
    "#feat4 = solver.net.params['ip4'][0].data\n",
    "\n",
    "std_feat1 = feat1.std()\n",
    "mean_feat1 = feat1.mean()\n",
    "print \"std_feat1 = \", std_feat1\n",
    "print \"mean_feat1 = \", mean_feat1\n",
    "std_feat2 = feat2.std()\n",
    "mean_feat2 = feat2.mean()\n",
    "print \"std_feat2 = \", std_feat2\n",
    "print \"mean_feat2 = \", mean_feat2\n",
    "std_feat3 = feat3.std()\n",
    "mean_feat3 = feat3.mean()\n",
    "print \"std_feat3 = \", std_feat3\n",
    "print \"mean_feat3 = \", mean_feat3\n",
    "#std_feat4 = feat4.std()\n",
    "#mean_feat4 = feat4.mean()\n",
    "#print \"std_feat4 = \", std_feat4\n",
    "#print \"mean_feat4 = \", mean_feat4"
   ]
  },
  {
   "cell_type": "code",
   "execution_count": null,
   "metadata": {
    "collapsed": false
   },
   "outputs": [],
   "source": [
    "#train_net.params['ip1'][0].data[train_net.params['ip1'][0].data < (-1 * std_ip1)] = -1\n",
    "#train_net.params['ip1'][0].data[train_net.params['ip1'][0].data > (1 * std_ip1)] = 1\n",
    "for x in range(20):\n",
    "    for y in range(784):\n",
    "        if (solver.net.params['ip1'][0].data[x,y] >= (mean_feat1-std_feat1)) & (solver.net.params['ip1'][0].data[x,y] <= (mean_feat1+std_feat1)):\n",
    "            solver.net.params['ip1'][0].data[x,y] = mean_feat1\n",
    "#train_net.params['ip2'][0].data[train_net.params['ip2'][0].data < (-1 * std_ip2)] = -1\n",
    "#train_net.params['ip2'][0].data[train_net.params['ip2'][0].data > (1 * std_ip2)] = 1\n",
    "for x in range(50):\n",
    "    for y in range(20):\n",
    "        if (solver.net.params['ip2'][0].data[x,y] >= (mean_feat2-std_feat2)) & (solver.net.params['ip2'][0].data[x,y] <= (mean_feat2+std_feat2)):\n",
    "            solver.net.params['ip2'][0].data[x,y] = mean_feat2\n",
    "#train_net.params['ip3'][0].data[train_net.params['ip3'][0].data < (-1 * std_ip3)] = -1\n",
    "#train_net.params['ip3'][0].data[train_net.params['ip3'][0].data > (1 * std_ip3)] = 1\n",
    "for x in range(10):\n",
    "    for y in range(50):\n",
    "        if (solver.net.params['ip3'][0].data[x,y] >= (mean_feat3-std_feat3)) & (solver.net.params['ip3'][0].data[x,y] <= (mean_feat3+std_feat3)):\n",
    "            solver.net.params['ip3'][0].data[x,y] = mean_feat3\n",
    "#train_net.params['ip4'][0].data[train_net.params['ip4'][0].data < (-1 * std_ip4)] = -1\n",
    "#train_net.params['ip4'][0].data[train_net.params['ip4'][0].data > (1 * std_ip4)] = 1\n",
    "#for x in range(10):\n",
    "#    for y in range(128):\n",
    "#        if (train_net.params['ip4'][0].data[x,y] >= (-1 * std_ip4)) & (train_net.params['ip4'][0].data[x,y] <= (1 * std_ip4)):\n",
    "#            train_net.params['ip4'][0].data[x,y] = 0"
   ]
  },
  {
   "cell_type": "code",
   "execution_count": null,
   "metadata": {
    "collapsed": true
   },
   "outputs": [],
   "source": []
  }
 ],
 "metadata": {
  "kernelspec": {
   "display_name": "Python 2",
   "language": "python",
   "name": "python2"
  },
  "language_info": {
   "codemirror_mode": {
    "name": "ipython",
    "version": 2
   },
   "file_extension": ".py",
   "mimetype": "text/x-python",
   "name": "python",
   "nbconvert_exporter": "python",
   "pygments_lexer": "ipython2",
   "version": "2.7.6"
  }
 },
 "nbformat": 4,
 "nbformat_minor": 0
}

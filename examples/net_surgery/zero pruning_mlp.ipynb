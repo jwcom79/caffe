{
 "cells": [
  {
   "cell_type": "code",
   "execution_count": null,
   "metadata": {
    "collapsed": true
   },
   "outputs": [],
   "source": [
    "import os\n",
    "import numpy as np\n",
    "caffe_root = '/home/flathead/bitbucket/mycaffe/'\n",
    "os.chdir('../../')\n",
    "import sys\n",
    "sys.path.insert(0, 'python')\n",
    "import caffe"
   ]
  },
  {
   "cell_type": "code",
   "execution_count": null,
   "metadata": {
    "collapsed": true
   },
   "outputs": [],
   "source": [
    "from pylab import *\n",
    "%matplotlib inline"
   ]
  },
  {
   "cell_type": "code",
   "execution_count": null,
   "metadata": {
    "collapsed": true
   },
   "outputs": [],
   "source": [
    "import matplotlib.pyplot as plt\n",
    "from numpy.random import normal"
   ]
  },
  {
   "cell_type": "code",
   "execution_count": null,
   "metadata": {
    "collapsed": true
   },
   "outputs": [],
   "source": [
    "caffe.set_mode_gpu()\n",
    "caffe.set_device(0)"
   ]
  },
  {
   "cell_type": "code",
   "execution_count": null,
   "metadata": {
    "collapsed": false
   },
   "outputs": [],
   "source": [
    "#solver = None  # ignore this workaround for lmdb data (can't instantiate two solvers on the same data)\n",
    "#solver = caffe.SGDSolver('examples/mlp/mlp_solver.prototxt')\n",
    "solver = caffe.AdamSolver('examples/mlp/mlp_solver.prototxt')"
   ]
  },
  {
   "cell_type": "code",
   "execution_count": null,
   "metadata": {
    "collapsed": false
   },
   "outputs": [],
   "source": [
    "net1 = solver.net\n",
    "test_net = solver.test_nets[0]"
   ]
  },
  {
   "cell_type": "code",
   "execution_count": null,
   "metadata": {
    "collapsed": false
   },
   "outputs": [],
   "source": [
    "# during training, each output is (batch size, feature dim, spatial dim)\n",
    "[(k, v.data.shape) for k, v in net1.blobs.items()]"
   ]
  },
  {
   "cell_type": "code",
   "execution_count": null,
   "metadata": {
    "collapsed": false
   },
   "outputs": [],
   "source": [
    "# just print the weight sizes (we'll omit the biases)\n",
    "[(k, v[0].data.shape) for k, v in net1.params.items()]"
   ]
  },
  {
   "cell_type": "code",
   "execution_count": null,
   "metadata": {
    "collapsed": false
   },
   "outputs": [],
   "source": [
    "test_net.forward()"
   ]
  },
  {
   "cell_type": "code",
   "execution_count": null,
   "metadata": {
    "collapsed": false
   },
   "outputs": [],
   "source": [
    "feat1 = net1.params['ip1'][0].data\n",
    "feat2 = net1.params['ip2'][0].data\n",
    "feat3 = net1.params['ip3'][0].data\n",
    "feat4 = net1.params['ip4'][0].data"
   ]
  },
  {
   "cell_type": "code",
   "execution_count": null,
   "metadata": {
    "collapsed": true
   },
   "outputs": [],
   "source": [
    "l1 = 500\n",
    "l2 = 500\n",
    "l3 = 2000\n",
    "l4 = 10"
   ]
  },
  {
   "cell_type": "code",
   "execution_count": null,
   "metadata": {
    "collapsed": false
   },
   "outputs": [],
   "source": [
    "%%time\n",
    "niter = 50000\n",
    "test_interval = 5000\n",
    "train_loss = zeros(niter)\n",
    "test_acc = zeros(int(np.ceil(niter / test_interval)))\n",
    "output = zeros((niter, 8, 10))\n",
    "\n",
    "for it in range(niter):\n",
    "    solver.step(1)\n",
    "    #net1.forward()\n",
    "    \n",
    "    train_loss[it] = net1.blobs['loss'].data\n",
    "    \n",
    "    net1.forward(start='ip1')\n",
    "    output[it] = test_net.blobs['ip4'].data[:8]\n",
    "\n",
    "    if it % test_interval == 0:\n",
    "        print 'iteration', it, 'testing...'\n",
    "        correct = 0\n",
    "        for test_it in range(100):\n",
    "            test_net.forward()\n",
    "            correct += sum(test_net.blobs['ip4'].data.argmax(1) == test_net.blobs['label'].data)\n",
    "        test_acc[it // test_interval] = correct / 1e4"
   ]
  },
  {
   "cell_type": "code",
   "execution_count": null,
   "metadata": {
    "collapsed": false
   },
   "outputs": [],
   "source": [
    "net1.save('examples/mlp/baseline.caffemodel')"
   ]
  },
  {
   "cell_type": "code",
   "execution_count": null,
   "metadata": {
    "collapsed": false
   },
   "outputs": [],
   "source": [
    "plt.figure(figsize=(15, 15))\n",
    "\n",
    "plt.subplot(311)\n",
    "plt.hist(feat1[0].flat, bins= 500, range=(-1, 1))\n",
    "plt.title(\"ip1_weight\")"
   ]
  },
  {
   "cell_type": "code",
   "execution_count": null,
   "metadata": {
    "collapsed": false
   },
   "outputs": [],
   "source": [
    "#Neurons of Layer 1\n",
    "mean_feat1 = [0] * l1\n",
    "std_feat1 = [0] * l1\n",
    "\n",
    "for j in range(l1):\n",
    "    mean_feat1[j] = feat1[j].mean()\n",
    "    std_feat1[j] = feat1[j].std()\n",
    "    \n",
    "#Neurons of Layer 2\n",
    "mean_feat2 = [0] * l2\n",
    "std_feat2 = [0] * l2\n",
    "\n",
    "for j in range(l2):\n",
    "    mean_feat2[j] = feat2[j].mean()\n",
    "    std_feat2[j] = feat2[j].std()\n",
    "    \n",
    "#Neurons of Layer 3\n",
    "mean_feat3 = [0] * l3\n",
    "std_feat3 = [0] * l3\n",
    "\n",
    "for j in range(l3):\n",
    "    mean_feat3[j] = feat3[j].mean()\n",
    "    std_feat3[j] = feat3[j].std()\n",
    "    \n",
    "#Neurons of Layer 4\n",
    "mean_feat4 = [0] * l4\n",
    "std_feat4 = [0] * l4\n",
    "\n",
    "for j in range(l4):\n",
    "    mean_feat4[j] = feat4[j].mean()\n",
    "    std_feat4[j] = feat4[j].std()"
   ]
  },
  {
   "cell_type": "code",
   "execution_count": null,
   "metadata": {
    "collapsed": true
   },
   "outputs": [],
   "source": [
    "#Neurons of Layer 1\n",
    "posm_feat1 = [0] * l1\n",
    "negm_feat1 = [0] * l1\n",
    "poss_feat1 = [0] * l1\n",
    "negs_feat1 = [0] * l1\n",
    "\n",
    "for j in range(l1):\n",
    "    posm_feat1[j] = feat1[j][feat1[j] > 0].mean()\n",
    "    negm_feat1[j] = feat1[j][feat1[j] < 0].mean()\n",
    "    poss_feat1[j] = feat1[j][feat1[j] > 0].std()\n",
    "    negs_feat1[j] = feat1[j][feat1[j] < 0].std()\n",
    "    \n",
    "#Neurons of Layer 2\n",
    "posm_feat2 = [0] * l2\n",
    "negm_feat2 = [0] * l2\n",
    "poss_feat2 = [0] * l2\n",
    "negs_feat2 = [0] * l2\n",
    "\n",
    "for j in range(l2):\n",
    "    posm_feat2[j] = feat2[j][feat2[j] > 0].mean()\n",
    "    negm_feat2[j] = feat2[j][feat2[j] < 0].mean()\n",
    "    poss_feat2[j] = feat2[j][feat2[j] > 0].std()\n",
    "    negs_feat2[j] = feat2[j][feat2[j] < 0].std()\n",
    "    \n",
    "#Neurons of Layer 3\n",
    "posm_feat3 = [0] * l3\n",
    "negm_feat3 = [0] * l3\n",
    "poss_feat3 = [0] * l3\n",
    "negs_feat3 = [0] * l3\n",
    "\n",
    "for j in range(l3):\n",
    "    posm_feat3[j] = feat3[j][feat3[j] > 0].mean()\n",
    "    negm_feat3[j] = feat3[j][feat3[j] < 0].mean()\n",
    "    poss_feat3[j] = feat3[j][feat3[j] > 0].std()\n",
    "    negs_feat3[j] = feat3[j][feat3[j] < 0].std()\n",
    "\n",
    "#Neurons of Layer 4\n",
    "posm_feat4 = [0] * l4\n",
    "negm_feat4 = [0] * l4\n",
    "poss_feat4 = [0] * l4\n",
    "negs_feat4 = [0] * l4\n",
    "\n",
    "for j in range(l4):\n",
    "    posm_feat4[j] = feat4[j][feat4[j] > 0].mean()\n",
    "    negm_feat4[j] = feat4[j][feat4[j] < 0].mean()\n",
    "    poss_feat4[j] = feat4[j][feat4[j] > 0].std()\n",
    "    negs_feat4[j] = feat4[j][feat4[j] < 0].std()"
   ]
  },
  {
   "cell_type": "code",
   "execution_count": null,
   "metadata": {
    "collapsed": false
   },
   "outputs": [],
   "source": [
    "# rate * std range zero pruning\n",
    "rate = 0.3\n",
    "\n",
    "a1 = [0] * l1\n",
    "b1 = [0] * l2\n",
    "c1 = [0] * l3\n",
    "d1 = [0] * l4\n",
    "a2 = [0] * l1\n",
    "b2 = [0] * l2\n",
    "c2 = [0] * l3\n",
    "d2 = [0] * l4\n",
    "\n",
    "for x in range(l1):\n",
    "    a1[x] = (posm_feat1[x] - 0) * rate\n",
    "    a2[x] = (0 - negm_feat1[x]) * rate\n",
    "for y in range(l2):\n",
    "    b1[y] = (posm_feat2[y] - 0) * rate\n",
    "    b2[y] = (0 - negm_feat2[y]) * rate\n",
    "for z in range(l3):\n",
    "    c1[z] = (posm_feat3[z] - 0) * rate\n",
    "    c2[z] = (0 - negm_feat3[z]) * rate\n",
    "for u in range(l4):\n",
    "    d1[u] = (posm_feat4[u] - 0) * rate\n",
    "    d2[u] = (0 - negm_feat4[u]) * rate\n",
    "\n",
    "for x in range(l1):\n",
    "    for y in range(784):\n",
    "        #if ((feat1[x,y] >= (mean_feat1[x] - a2[x] * std_feat1[x])) & (feat1[x,y] <= (mean_feat1[x] + a1[x] * std_feat1[x]))):\n",
    "        if ((feat1[x,y] >= -a2[x]) & (feat1[x,y] <= a1[x])):\n",
    "        #if ((feat1[x,y] >= -std_feat1[x] * rate) & (feat1[x,y] <= rate * std_feat1[x])):\n",
    "            feat1[x,y] = 0\n",
    "            \n",
    "for x in range(l2):\n",
    "    for y in range(l1):\n",
    "        #if (feat2[x,y] >= (mean_feat2[x] - b2[x] * std_feat2[x])) & (feat2[x,y] <= (mean_feat2[x] + b1[x] * std_feat2[x])):\n",
    "        if (feat2[x,y] >= -b2[x]) & (feat2[x,y] <= b1[x]):\n",
    "        #if ((feat2[x,y] >= -std_feat2[x] * rate) & (feat2[x,y] <= rate * std_feat2[x])):\n",
    "            feat2[x,y] = 0\n",
    "            \n",
    "for x in range(l3):\n",
    "    for y in range(l2):\n",
    "        #if (feat3[x,y] >= (mean_feat3[x] - c2[x] * std_feat3[x])) & (feat3[x,y] <= (mean_feat3[x] + c1[x] * std_feat3[x])):\n",
    "        #if (feat3[x,y] >= -c2[x]) & (feat3[x,y] <= c1[x]):\n",
    "        if ((feat3[x,y] >= -std_feat3[x] * rate) & (feat3[x,y] <= std_feat3[x] * rate)):\n",
    "            feat3[x,y] = 0\n",
    "            \n",
    "for x in range(l4):\n",
    "    for y in range(l3):\n",
    "        #if (feat4[x,y] >= (mean_feat4[x] - d2[x] * std_feat4[x])) & (feat4[x,y] <= (mean_feat4[x] + d1[x] * std_feat4[x])):\n",
    "        #if (feat4[x,y] >= -d2[x]) & (feat4[x,y] <= d1[x]):\n",
    "        if ((feat4[x,y] >= -std_feat4[x] * rate) & (feat4[x,y] <= std_feat4[x] * rate)):\n",
    "            feat4[x,y] = 0"
   ]
  },
  {
   "cell_type": "code",
   "execution_count": null,
   "metadata": {
    "collapsed": false
   },
   "outputs": [],
   "source": [
    "for x in range(l1):\n",
    "    print (feat1[x] == 0).sum()\n",
    "for y in range(l2):\n",
    "    print (feat2[y] == 0).sum()\n",
    "for z in range(l3):\n",
    "    print (feat3[z] == 0).sum()\n",
    "for u in range(l4):\n",
    "    print (feat4[u] == 0).sum()"
   ]
  },
  {
   "cell_type": "code",
   "execution_count": null,
   "metadata": {
    "collapsed": true
   },
   "outputs": [],
   "source": [
    "net1.save('examples/mlp/zeropr/pruned.caffemodel')"
   ]
  },
  {
   "cell_type": "code",
   "execution_count": null,
   "metadata": {
    "collapsed": true
   },
   "outputs": [],
   "source": [
    "#Neurons of Layer 1\n",
    "posm_feat1 = [0] * l1\n",
    "negm_feat1 = [0] * l1\n",
    "poss_feat1 = [0] * l1\n",
    "negs_feat1 = [0] * l1\n",
    "\n",
    "for j in range(l1):\n",
    "    posm_feat1[j] = feat1[j][feat1[j] > 0].mean()\n",
    "    negm_feat1[j] = feat1[j][feat1[j] < 0].mean()\n",
    "    poss_feat1[j] = feat1[j][feat1[j] > 0].std()\n",
    "    negs_feat1[j] = feat1[j][feat1[j] < 0].std()\n",
    "    \n",
    "#Neurons of Layer 2\n",
    "posm_feat2 = [0] * l2\n",
    "negm_feat2 = [0] * l2\n",
    "poss_feat2 = [0] * l2\n",
    "negs_feat2 = [0] * l2\n",
    "\n",
    "for j in range(l2):\n",
    "    posm_feat2[j] = feat2[j][feat2[j] > 0].mean()\n",
    "    negm_feat2[j] = feat2[j][feat2[j] < 0].mean()\n",
    "    poss_feat2[j] = feat2[j][feat2[j] > 0].std()\n",
    "    negs_feat2[j] = feat2[j][feat2[j] < 0].std()\n",
    "    \n",
    "#Neurons of Layer 3\n",
    "posm_feat3 = [0] * l3\n",
    "negm_feat3 = [0] * l3\n",
    "poss_feat3 = [0] * l3\n",
    "negs_feat3 = [0] * l3\n",
    "\n",
    "for j in range(l3):\n",
    "    posm_feat3[j] = feat3[j][feat3[j] > 0].mean()\n",
    "    negm_feat3[j] = feat3[j][feat3[j] < 0].mean()\n",
    "    poss_feat3[j] = feat3[j][feat3[j] > 0].std()\n",
    "    negs_feat3[j] = feat3[j][feat3[j] < 0].std()\n",
    "\n",
    "#Neurons of Layer 4\n",
    "posm_feat4 = [0] * l4\n",
    "negm_feat4 = [0] * l4\n",
    "poss_feat4 = [0] * l4\n",
    "negs_feat4 = [0] * l4\n",
    "\n",
    "for j in range(l4):\n",
    "    posm_feat4[j] = feat4[j][feat4[j] > 0].mean()\n",
    "    negm_feat4[j] = feat4[j][feat4[j] < 0].mean()\n",
    "    poss_feat4[j] = feat4[j][feat4[j] > 0].std()\n",
    "    negs_feat4[j] = feat4[j][feat4[j] < 0].std()"
   ]
  },
  {
   "cell_type": "code",
   "execution_count": null,
   "metadata": {
    "collapsed": false
   },
   "outputs": [],
   "source": [
    "# Mean value Quantization\n",
    "\n",
    "for x in range(l1):\n",
    "    for y in range(784):\n",
    "        if (feat1[x, y] > 0):\n",
    "            feat1[x,y] = posm_feat1[x]\n",
    "        if (feat1[x, y] < 0):\n",
    "            feat1[x,y] = negm_feat1[x]\n",
    "            \n",
    "for x in range(l2):\n",
    "    for y in range(l1):\n",
    "        if (feat2[x, y] > 0):\n",
    "            feat2[x,y] = posm_feat2[x]\n",
    "        if (feat2[x, y] < 0):\n",
    "            feat2[x,y] = negm_feat2[x]\n",
    "            \n",
    "for x in range(l3):\n",
    "    for y in range(l2):\n",
    "        if (feat3[x, y] > 0):\n",
    "            feat3[x,y] = posm_feat3[x]\n",
    "        if (feat3[x, y] < 0):\n",
    "            feat3[x,y] = negm_feat3[x]\n",
    "            \n",
    "for x in range(l4):\n",
    "    for y in range(l3):\n",
    "        if (feat4[x, y] > 0):\n",
    "            feat4[x,y] = posm_feat4[x]\n",
    "        if (feat4[x, y] < 0):\n",
    "            feat4[x,y] = negm_feat4[x]"
   ]
  },
  {
   "cell_type": "code",
   "execution_count": null,
   "metadata": {
    "collapsed": true
   },
   "outputs": [],
   "source": [
    "net1.save('examples/mlp/zeropr/quantization.caffemodel')"
   ]
  },
  {
   "cell_type": "code",
   "execution_count": null,
   "metadata": {
    "collapsed": true
   },
   "outputs": [],
   "source": [
    "for x in range(l1):\n",
    "    print ((feat1[x] == posm_feat1[x]) | (feat1[x] == negm_feat1[x]) | (feat1[x] == 0)).sum()\n",
    "for y in range(l2):\n",
    "    print ((feat2[y] == posm_feat2[y]) | (feat2[y] == negm_feat2[y]) | (feat2[y] == 0)).sum()\n",
    "for y in range(l3):\n",
    "    print ((feat3[y] == posm_feat3[y]) | (feat3[y] == negm_feat3[y]) | (feat3[y] == 0)).sum()\n",
    "for y in range(l4):\n",
    "    print ((feat4[y] == posm_feat4[y]) | (feat4[y] == negm_feat4[y]) | (feat4[y] == 0)).sum()"
   ]
  },
  {
   "cell_type": "code",
   "execution_count": null,
   "metadata": {
    "collapsed": false
   },
   "outputs": [],
   "source": [
    "# same abolute values of posm and negm\n",
    "\n",
    "for x in range(l1):\n",
    "    for y in range(784):\n",
    "        if (feat1[x, y] > 0):\n",
    "            feat1[x,y] = (posm_feat1[x] - negm_feat1[x]) / 2\n",
    "        if (feat1[x, y] < 0):\n",
    "            feat1[x,y] = (negm_feat1[x] - posm_feat1[x]) / 2\n",
    "            \n",
    "for x in range(l2):\n",
    "    for y in range(l1):\n",
    "        if (feat2[x, y] > 0):\n",
    "            feat2[x,y] = (posm_feat2[x] - negm_feat2[x]) / 2\n",
    "        if (feat2[x, y] < 0):\n",
    "            feat2[x,y] = (negm_feat2[x] - posm_feat2[x]) / 2\n",
    "            \n",
    "for x in range(l3):\n",
    "    for y in range(l2):\n",
    "        if (feat3[x, y] > 0):\n",
    "            feat3[x,y] = (posm_feat3[x] - negm_feat3[x]) / 2\n",
    "        if (feat3[x, y] < 0):\n",
    "            feat3[x,y] = (negm_feat3[x] - posm_feat3[x]) / 2\n",
    "            \n",
    "for x in range(l4):\n",
    "    for y in range(l3):\n",
    "        if (feat4[x, y] > 0):\n",
    "            feat4[x,y] = (posm_feat4[x] - negm_feat4[x]) / 2\n",
    "        if (feat4[x, y] < 0):\n",
    "            feat4[x,y] = (negm_feat4[x] - posm_feat4[x]) / 2"
   ]
  },
  {
   "cell_type": "code",
   "execution_count": null,
   "metadata": {
    "collapsed": true
   },
   "outputs": [],
   "source": [
    "net1.save('examples/mlp/zeropr/sameabs.caffemodel')"
   ]
  },
  {
   "cell_type": "code",
   "execution_count": null,
   "metadata": {
    "collapsed": false
   },
   "outputs": [],
   "source": [
    "for x in range(l1):\n",
    "    print [(posm_feat1[x] + negm_feat1[x])/2]\n",
    "           \n",
    "for x in range(l2):\n",
    "    print [(posm_feat2[x] + negm_feat2[x])/2]\n",
    "    \n",
    "for x in range(l3):\n",
    "    print [(posm_feat3[x] + negm_feat3[x])/2]"
   ]
  },
  {
   "cell_type": "code",
   "execution_count": null,
   "metadata": {
    "collapsed": false
   },
   "outputs": [],
   "source": [
    "net1.params['ip1'][0].data"
   ]
  },
  {
   "cell_type": "code",
   "execution_count": null,
   "metadata": {
    "collapsed": true
   },
   "outputs": [],
   "source": []
  }
 ],
 "metadata": {
  "kernelspec": {
   "display_name": "Python 2",
   "language": "python",
   "name": "python2"
  },
  "language_info": {
   "codemirror_mode": {
    "name": "ipython",
    "version": 2
   },
   "file_extension": ".py",
   "mimetype": "text/x-python",
   "name": "python",
   "nbconvert_exporter": "python",
   "pygments_lexer": "ipython2",
   "version": "2.7.6"
  }
 },
 "nbformat": 4,
 "nbformat_minor": 0
}

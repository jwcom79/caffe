{
 "cells": [
  {
   "cell_type": "code",
   "execution_count": 1,
   "metadata": {
    "collapsed": false
   },
   "outputs": [],
   "source": [
    "import os\n",
    "import numpy as np\n",
    "caffe_root = '/home/flathead/bitbucket/mycaffe/'\n",
    "os.chdir('../../')\n",
    "import sys\n",
    "sys.path.insert(0, 'python')\n",
    "import caffe"
   ]
  },
  {
   "cell_type": "code",
   "execution_count": 2,
   "metadata": {
    "collapsed": true
   },
   "outputs": [],
   "source": [
    "from pylab import *\n",
    "%matplotlib inline"
   ]
  },
  {
   "cell_type": "code",
   "execution_count": 3,
   "metadata": {
    "collapsed": true
   },
   "outputs": [],
   "source": [
    "import matplotlib.pyplot as plt\n",
    "from numpy.random import normal"
   ]
  },
  {
   "cell_type": "code",
   "execution_count": 4,
   "metadata": {
    "collapsed": true
   },
   "outputs": [],
   "source": [
    "caffe.set_mode_gpu()\n",
    "caffe.set_device(0)"
   ]
  },
  {
   "cell_type": "code",
   "execution_count": 5,
   "metadata": {
    "collapsed": false
   },
   "outputs": [],
   "source": [
    "net1 = caffe.Net('examples/mnist/lenet_train_test.prototxt',\n",
    "                'examples/mnist/lenet_iter_50000.caffemodel', \n",
    "                 caffe.TEST)"
   ]
  },
  {
   "cell_type": "code",
   "execution_count": 15,
   "metadata": {
    "collapsed": false
   },
   "outputs": [],
   "source": [
    "feat1 = net1.params['ip1'][0].data\n",
    "feat2 = net1.params['ip2'][0].data"
   ]
  },
  {
   "cell_type": "code",
   "execution_count": 16,
   "metadata": {
    "collapsed": false,
    "scrolled": false
   },
   "outputs": [],
   "source": [
    "l1 = 1024\n",
    "l2 = 10"
   ]
  },
  {
   "cell_type": "code",
   "execution_count": 17,
   "metadata": {
    "collapsed": false
   },
   "outputs": [
    {
     "data": {
      "text/plain": [
       "<matplotlib.text.Text at 0x7e09bb5ce450>"
      ]
     },
     "execution_count": 17,
     "metadata": {},
     "output_type": "execute_result"
    },
    {
     "data": {
      "image/png": "[encoded data removed]",
      "text/plain": [
       "<matplotlib.figure.Figure at 0x7f09ceed2290>"
      ]
     },
     "metadata": {},
     "output_type": "display_data"
    }
   ],
   "source": [
    "plt.figure(figsize=(15, 15))\n",
    "\n",
    "plt.subplot(2,1,1)\n",
    "plt.hist(feat1.flat, bins = 500)\n",
    "plt.title(\"hidden layer\")\n",
    "\n",
    "plt.subplot(2,1,2)\n",
    "plt.hist(feat2.flat, bins = 500)\n",
    "plt.title(\"output layer\")"
   ]
  },
  {
   "cell_type": "code",
   "execution_count": null,
   "metadata": {
    "collapsed": true
   },
   "outputs": [],
   "source": [
    "# Pruning Here!"
   ]
  },
  {
   "cell_type": "code",
   "execution_count": 18,
   "metadata": {
    "collapsed": false
   },
   "outputs": [],
   "source": [
    "#Neurons of Layer 1\n",
    "mean_feat1 = [0] * l1\n",
    "std_feat1 = [0] * l1\n",
    "\n",
    "for j in range(l1):\n",
    "    mean_feat1[j] = feat1[j].mean()\n",
    "    std_feat1[j] = feat1[j].std()\n",
    "    \n",
    "#Neurons of Layer 2\n",
    "mean_feat2 = [0] * l2\n",
    "std_feat2 = [0] * l2\n",
    "\n",
    "for j in range(l2):\n",
    "    mean_feat2[j] = feat2[j].mean()\n",
    "    std_feat2[j] = feat2[j].std()"
   ]
  },
  {
   "cell_type": "code",
   "execution_count": 19,
   "metadata": {
    "collapsed": false
   },
   "outputs": [],
   "source": [
    "#Neurons of Layer 1\n",
    "posm_feat1 = [0] * l1\n",
    "negm_feat1 = [0] * l1\n",
    "poss_feat1 = [0] * l1\n",
    "negs_feat1 = [0] * l1\n",
    "\n",
    "for j in range(l1):\n",
    "    posm_feat1[j] = feat1[j][feat1[j] > 0].mean()\n",
    "    negm_feat1[j] = feat1[j][feat1[j] < 0].mean()\n",
    "    poss_feat1[j] = feat1[j][feat1[j] > 0].std()\n",
    "    negs_feat1[j] = feat1[j][feat1[j] < 0].std()\n",
    "    \n",
    "#Neurons of Layer 2\n",
    "posm_feat2 = [0] * l2\n",
    "negm_feat2 = [0] * l2\n",
    "poss_feat2 = [0] * l2\n",
    "negs_feat2 = [0] * l2\n",
    "\n",
    "for j in range(l2):\n",
    "    posm_feat2[j] = feat2[j][feat2[j] > 0].mean()\n",
    "    negm_feat2[j] = feat2[j][feat2[j] < 0].mean()\n",
    "    poss_feat2[j] = feat2[j][feat2[j] > 0].std()\n",
    "    negs_feat2[j] = feat2[j][feat2[j] < 0].std()"
   ]
  },
  {
   "cell_type": "code",
   "execution_count": 21,
   "metadata": {
    "collapsed": false
   },
   "outputs": [],
   "source": [
    "# rate * std range zero pruning\n",
    "rate = 0.8\n",
    "\n",
    "for x in range(l1):\n",
    "    for y in range(800):\n",
    "        if ((feat1[x,y] >= -std_feat1[x] * rate) & (feat1[x,y] <= rate * std_feat1[x])):\n",
    "            feat1[x,y] = 0\n",
    "            \n",
    "for x in range(l2):\n",
    "    for y in range(l1):\n",
    "        if ((feat2[x,y] >= -std_feat2[x] * rate) & (feat2[x,y] <= rate * std_feat2[x])):\n",
    "            feat2[x,y] = 0"
   ]
  },
  {
   "cell_type": "code",
   "execution_count": 22,
   "metadata": {
    "collapsed": true
   },
   "outputs": [],
   "source": [
    "net1.save('examples/mnist/zeropr/pruned.caffemodel')"
   ]
  },
  {
   "cell_type": "code",
   "execution_count": 23,
   "metadata": {
    "collapsed": false
   },
   "outputs": [
    {
     "name": "stdout",
     "output_type": "stream",
     "text": [
      "(0.49588378906250002, 0.55517578125)\n",
      "0.496615788966\n"
     ]
    }
   ],
   "source": [
    "ratio = zeros(2)\n",
    "\n",
    "for x in range(l1):\n",
    "    ratio[0] += (feat1[x] ==  0).sum()\n",
    "\n",
    "for x in range(l2):\n",
    "    ratio[1] += (feat2[x] ==  0).sum()\n",
    "    \n",
    "\n",
    "print (ratio[0] / (800 * l1), ratio[1] / (l2 * l1))\n",
    "print ((ratio[0] + ratio[1]) / (800 * l1 + l1 * l2))"
   ]
  },
  {
   "cell_type": "code",
   "execution_count": 24,
   "metadata": {
    "collapsed": false
   },
   "outputs": [
    {
     "data": {
      "text/plain": [
       "<matplotlib.text.Text at 0x7e09b9e02050>"
      ]
     },
     "execution_count": 24,
     "metadata": {},
     "output_type": "execute_result"
    },
    {
     "data": {
      "image/png": "[encoded data removed]",
      "text/plain": [
       "<matplotlib.figure.Figure at 0x7f09cfc6f790>"
      ]
     },
     "metadata": {},
     "output_type": "display_data"
    }
   ],
   "source": [
    "plt.figure(figsize=(15, 15))\n",
    "\n",
    "plt.subplot(2,1,1)\n",
    "plt.hist(feat1[feat1 != 0].flat, bins = 500)\n",
    "plt.title(\"hidden layer\")\n",
    "\n",
    "plt.subplot(2,1,2)\n",
    "plt.hist(feat2[feat2 != 0].flat, bins = 500)\n",
    "plt.title(\"output layer\")"
   ]
  },
  {
   "cell_type": "code",
   "execution_count": null,
   "metadata": {
    "collapsed": true
   },
   "outputs": [],
   "source": [
    "# Retraining is required Here!"
   ]
  },
  {
   "cell_type": "code",
   "execution_count": 25,
   "metadata": {
    "collapsed": true
   },
   "outputs": [],
   "source": [
    "net1 = None\n",
    "net1 = caffe.Net('examples/mnist/retrain/retrain_train_test.prototxt',\n",
    "                'examples/mnist/retrain/lenet_iter_20000.caffemodel', \n",
    "                 caffe.TEST)"
   ]
  },
  {
   "cell_type": "code",
   "execution_count": 26,
   "metadata": {
    "collapsed": false
   },
   "outputs": [
    {
     "data": {
      "text/plain": [
       "<matplotlib.text.Text at 0x7e09b8704750>"
      ]
     },
     "execution_count": 26,
     "metadata": {},
     "output_type": "execute_result"
    },
    {
     "data": {
      "image/png": "[encoded data removed]",
      "text/plain": [
       "<matplotlib.figure.Figure at 0x7e09ba978090>"
      ]
     },
     "metadata": {},
     "output_type": "display_data"
    }
   ],
   "source": [
    "plt.figure(figsize=(15, 15))\n",
    "\n",
    "plt.subplot(2,1,1)\n",
    "plt.hist(feat1[feat1 != 0].flat, bins = 500)\n",
    "plt.title(\"hidden layer\")\n",
    "\n",
    "plt.subplot(2,1,2)\n",
    "plt.hist(feat2[feat2 != 0].flat, bins = 500)\n",
    "plt.title(\"output layer\")"
   ]
  },
  {
   "cell_type": "code",
   "execution_count": null,
   "metadata": {
    "collapsed": true
   },
   "outputs": [],
   "source": [
    "# Quantization Here!"
   ]
  },
  {
   "cell_type": "code",
   "execution_count": 27,
   "metadata": {
    "collapsed": false
   },
   "outputs": [],
   "source": [
    "#Neurons of Layer 1\n",
    "mean_feat1 = [0] * l1\n",
    "std_feat1 = [0] * l1\n",
    "\n",
    "for j in range(l1):\n",
    "    mean_feat1[j] = feat1[j].mean()\n",
    "    std_feat1[j] = feat1[j].std()\n",
    "    \n",
    "#Neurons of Layer 2\n",
    "mean_feat2 = [0] * l2\n",
    "std_feat2 = [0] * l2\n",
    "\n",
    "for j in range(l2):\n",
    "    mean_feat2[j] = feat2[j].mean()\n",
    "    std_feat2[j] = feat2[j].std()"
   ]
  },
  {
   "cell_type": "code",
   "execution_count": 28,
   "metadata": {
    "collapsed": true
   },
   "outputs": [],
   "source": [
    "#Neurons of Layer 1\n",
    "posm_feat1 = [0] * l1\n",
    "negm_feat1 = [0] * l1\n",
    "poss_feat1 = [0] * l1\n",
    "negs_feat1 = [0] * l1\n",
    "\n",
    "for j in range(l1):\n",
    "    posm_feat1[j] = feat1[j][feat1[j] > 0].mean()\n",
    "    negm_feat1[j] = feat1[j][feat1[j] < 0].mean()\n",
    "    poss_feat1[j] = feat1[j][feat1[j] > 0].std()\n",
    "    negs_feat1[j] = feat1[j][feat1[j] < 0].std()\n",
    "    \n",
    "#Neurons of Layer 2\n",
    "posm_feat2 = [0] * l2\n",
    "negm_feat2 = [0] * l2\n",
    "poss_feat2 = [0] * l2\n",
    "negs_feat2 = [0] * l2\n",
    "\n",
    "for j in range(l2):\n",
    "    posm_feat2[j] = feat2[j][feat2[j] > 0].mean()\n",
    "    negm_feat2[j] = feat2[j][feat2[j] < 0].mean()\n",
    "    poss_feat2[j] = feat2[j][feat2[j] > 0].std()\n",
    "    negs_feat2[j] = feat2[j][feat2[j] < 0].std()"
   ]
  },
  {
   "cell_type": "code",
   "execution_count": 30,
   "metadata": {
    "collapsed": false
   },
   "outputs": [],
   "source": [
    "# Mean value Quantization\n",
    "\n",
    "for x in range(l1):\n",
    "    for y in range(800):\n",
    "        if (feat1[x][y] > 0):\n",
    "            feat1[x][y] = posm_feat1[x]\n",
    "        if (feat1[x][y] < 0):\n",
    "            feat1[x][y] = negm_feat1[x]\n",
    "            \n",
    "for x in range(l2):\n",
    "    for y in range(l1):\n",
    "        if (feat2[x][y] > 0):\n",
    "            feat2[x][y] = posm_feat2[x]\n",
    "        if (feat2[x][y] < 0):\n",
    "            feat2[x][y] = negm_feat2[x]"
   ]
  },
  {
   "cell_type": "code",
   "execution_count": 31,
   "metadata": {
    "collapsed": false
   },
   "outputs": [],
   "source": [
    "net1.save('examples/mnist/zeropr/quant.caffemodel')"
   ]
  },
  {
   "cell_type": "code",
   "execution_count": null,
   "metadata": {
    "collapsed": true
   },
   "outputs": [],
   "source": [
    "# Binarize Here!"
   ]
  },
  {
   "cell_type": "code",
   "execution_count": 32,
   "metadata": {
    "collapsed": false
   },
   "outputs": [],
   "source": [
    "# Same abolute values of posm and negm\n",
    "\n",
    "for x in range(l1):\n",
    "    for y in range(800):\n",
    "        if (feat1[x][y] > 0):\n",
    "            feat1[x][y] = (posm_feat1[x] - negm_feat1[x]) / 2\n",
    "        if (feat1[x][y] < 0):\n",
    "            feat1[x][y] = (negm_feat1[x] - posm_feat1[x]) / 2\n",
    "            \n",
    "for x in range(l2):\n",
    "    for y in range(l1):\n",
    "        if (feat2[x][y] > 0):\n",
    "            feat2[x][y] = (posm_feat2[x] - negm_feat2[x]) / 2\n",
    "        if (feat2[x][y] < 0):\n",
    "            feat2[x][y] = (negm_feat2[x] - posm_feat2[x]) / 2"
   ]
  },
  {
   "cell_type": "code",
   "execution_count": 33,
   "metadata": {
    "collapsed": true
   },
   "outputs": [],
   "source": [
    "net1.save('examples/mnist/zeropr/sameabs.caffemodel')"
   ]
  },
  {
   "cell_type": "code",
   "execution_count": 34,
   "metadata": {
    "collapsed": false
   },
   "outputs": [
    {
     "name": "stdout",
     "output_type": "stream",
     "text": [
      "(0.49588378906250002, 0.55517578125)\n",
      "0.496615788966\n"
     ]
    }
   ],
   "source": [
    "ratio = zeros(2)\n",
    "\n",
    "for x in range(l1):\n",
    "    ratio[0] += (feat1[x] ==  0).sum()\n",
    "\n",
    "for x in range(l2):\n",
    "    ratio[1] += (feat2[x] ==  0).sum()\n",
    "    \n",
    "\n",
    "print (ratio[0] / (800 * l1), ratio[1] / (l2 * l1))\n",
    "print ((ratio[0] + ratio[1]) / (800 * l1 + l1 * l2))"
   ]
  },
  {
   "cell_type": "code",
   "execution_count": null,
   "metadata": {
    "collapsed": true
   },
   "outputs": [],
   "source": []
  }
 ],
 "metadata": {
  "kernelspec": {
   "display_name": "Python 2",
   "language": "python",
   "name": "python2"
  },
  "language_info": {
   "codemirror_mode": {
    "name": "ipython",
    "version": 2
   },
   "file_extension": ".py",
   "mimetype": "text/x-python",
   "name": "python",
   "nbconvert_exporter": "python",
   "pygments_lexer": "ipython2",
   "version": "2.7.6"
  }
 },
 "nbformat": 4,
 "nbformat_minor": 0
}

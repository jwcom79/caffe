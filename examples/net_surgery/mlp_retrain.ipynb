{
 "cells": [
  {
   "cell_type": "code",
   "execution_count": null,
   "metadata": {
    "collapsed": true
   },
   "outputs": [],
   "source": [
    "import os\n",
    "import numpy as np\n",
    "caffe_root = '/home/flathead/bitbucket/mycaffe/'\n",
    "os.chdir('../../')\n",
    "import sys\n",
    "sys.path.insert(0, 'python')\n",
    "import caffe"
   ]
  },
  {
   "cell_type": "code",
   "execution_count": null,
   "metadata": {
    "collapsed": true
   },
   "outputs": [],
   "source": [
    "from pylab import *\n",
    "%matplotlib inline"
   ]
  },
  {
   "cell_type": "code",
   "execution_count": null,
   "metadata": {
    "collapsed": true
   },
   "outputs": [],
   "source": [
    "import matplotlib.pyplot as plt\n",
    "matplotlib.rc('xtick', labelsize=35)\n",
    "matplotlib.rc('ytick', labelsize=35)\n",
    "from numpy.random import normal"
   ]
  },
  {
   "cell_type": "code",
   "execution_count": null,
   "metadata": {
    "collapsed": false
   },
   "outputs": [],
   "source": [
    "caffe.set_mode_gpu()\n",
    "caffe.set_device(0)"
   ]
  },
  {
   "cell_type": "code",
   "execution_count": null,
   "metadata": {
    "collapsed": true
   },
   "outputs": [],
   "source": [
    "# Iterations begin here"
   ]
  },
  {
   "cell_type": "code",
   "execution_count": null,
   "metadata": {
    "collapsed": false
   },
   "outputs": [],
   "source": [
    "net1 = None\n",
    "net1 = caffe.Net('examples/mlp/retrain/retrain_train_test.prototxt',\n",
    "                'examples/mlp/retrain/mlp_retrain_iter_20000.caffemodel', \n",
    "                 caffe.TEST)"
   ]
  },
  {
   "cell_type": "code",
   "execution_count": null,
   "metadata": {
    "collapsed": true
   },
   "outputs": [],
   "source": [
    "feat1 = net1.params['ip1'][0].data\n",
    "feat2 = net1.params['ip2'][0].data\n",
    "feat3 = net1.params['ip3'][0].data\n",
    "feat4 = net1.params['ip4'][0].data"
   ]
  },
  {
   "cell_type": "code",
   "execution_count": null,
   "metadata": {
    "collapsed": true
   },
   "outputs": [],
   "source": [
    "l1 = 500\n",
    "l2 = 500\n",
    "l3 = 2000\n",
    "l4 = 10"
   ]
  },
  {
   "cell_type": "code",
   "execution_count": null,
   "metadata": {
    "collapsed": false
   },
   "outputs": [],
   "source": [
    "plt.figure(figsize=(15, 15))\n",
    "'''\n",
    "plt.subplot(4,1,1)\n",
    "plt.hist(feat1[feat1 != 0].flat, bins = 784)\n",
    "plt.title(\"Input layer\")\n",
    "\n",
    "plt.subplot(4,1,2)\n",
    "plt.hist(feat2[feat2 != 0].flat, bins = 500)\n",
    "plt.title(\"1'st layer\")\n",
    "'''\n",
    "plt.subplot(1,1,1)\n",
    "plt.hist(feat3[feat3 != 0].flat, bins = 5000)\n",
    "#plt.title(\"2'nd layer\")\n",
    "'''\n",
    "plt.subplot(4,1,4)\n",
    "plt.hist(feat4[feat4 != 0].flat, bins = 2000)\n",
    "plt.title(\"Last layer\")\n",
    "'''"
   ]
  },
  {
   "cell_type": "code",
   "execution_count": null,
   "metadata": {
    "collapsed": false
   },
   "outputs": [],
   "source": [
    "ratio = zeros(4)\n",
    "\n",
    "for x in range(l1):\n",
    "    ratio[0] += (feat1[x] ==  0).sum()\n",
    "\n",
    "for x in range(l2):\n",
    "    ratio[1] += (feat2[x] ==  0).sum()\n",
    "    \n",
    "for x in range(l3):\n",
    "    ratio[2] += (feat3[x] ==  0).sum()\n",
    "    \n",
    "for x in range(l4):\n",
    "    ratio[3] += (feat4[x] ==  0).sum()\n",
    "\n",
    "print (ratio[0] / (784 * l1), ratio[1] / (l2 * l1), ratio[2] / (l3 * l2), ratio[3] / (l4 * l3))\n",
    "print ((ratio[0] + ratio[1] + ratio[2] + ratio[3]) / (784 * l1 + l1 * l2 + l2 * l3 + l3 * l4))"
   ]
  },
  {
   "cell_type": "code",
   "execution_count": null,
   "metadata": {
    "collapsed": false
   },
   "outputs": [],
   "source": [
    "#Neurons of Layer 1\n",
    "mean_feat1 = zeros(l1)\n",
    "std_feat1 = zeros(l1)\n",
    "\n",
    "for j in range(l1):\n",
    "    mean_feat1[j] = feat1[j][feat1[j] != 0].mean()\n",
    "    std_feat1[j] = feat1[j][feat1[j] != 0].std()\n",
    "    \n",
    "#Neurons of Layer 2\n",
    "mean_feat2 = zeros(l2)\n",
    "std_feat2 = zeros(l2)\n",
    "\n",
    "for j in range(l2):\n",
    "    mean_feat2[j] = feat2[j][feat2[j] != 0].mean()\n",
    "    std_feat2[j] = feat2[j][feat2[j] != 0].std()\n",
    "    \n",
    "#Neurons of Layer 3\n",
    "mean_feat3 = zeros(l3)\n",
    "std_feat3 = zeros(l3)\n",
    "\n",
    "for j in range(l3):\n",
    "    mean_feat3[j] = feat3[j][feat3[j] != 0].mean()\n",
    "    std_feat3[j] = feat3[j][feat3[j] != 0].std()\n",
    "    \n",
    "#Neurons of Layer 4\n",
    "mean_feat4 = zeros(l4)\n",
    "std_feat4 = zeros(l4)\n",
    "\n",
    "for j in range(l4):\n",
    "    mean_feat4[j] = feat4[j][feat4[j] != 0].mean()\n",
    "    std_feat4[j] = feat4[j][feat4[j] != 0].std()"
   ]
  },
  {
   "cell_type": "code",
   "execution_count": null,
   "metadata": {
    "collapsed": false
   },
   "outputs": [],
   "source": [
    "#'''\n",
    "#Neurons of Layer 1\n",
    "posm_feat1 = zeros(l1)\n",
    "negm_feat1 = zeros(l1)\n",
    "poss_feat1 = zeros(l1)\n",
    "negs_feat1 = zeros(l1)\n",
    "\n",
    "for j in range(l1):\n",
    "    posm_feat1[j] = feat1[j][feat1[j] > 0].mean()\n",
    "    negm_feat1[j] = feat1[j][feat1[j] < 0].mean()\n",
    "    poss_feat1[j] = feat1[j][feat1[j] > 0].std()\n",
    "    negs_feat1[j] = feat1[j][feat1[j] < 0].std()\n",
    "#''''''\n",
    "#Neurons of Layer 2\n",
    "posm_feat2 = zeros(l2)\n",
    "negm_feat2 = zeros(l2)\n",
    "poss_feat2 = zeros(l2)\n",
    "negs_feat2 = zeros(l2)\n",
    "\n",
    "for j in range(l2):\n",
    "    posm_feat2[j] = feat2[j][feat2[j] > 0].mean()\n",
    "    negm_feat2[j] = feat2[j][feat2[j] < 0].mean()\n",
    "    poss_feat2[j] = feat2[j][feat2[j] > 0].std()\n",
    "    negs_feat2[j] = feat2[j][feat2[j] < 0].std()\n",
    "\n",
    "#''''''\n",
    "#Neurons of Layer 3\n",
    "posm_feat3 = zeros(l3)\n",
    "negm_feat3 = zeros(l3)\n",
    "poss_feat3 = zeros(l3)\n",
    "negs_feat3 = zeros(l3)\n",
    "\n",
    "for j in range(l3):\n",
    "    posm_feat3[j] = feat3[j][feat3[j] > 0].mean()\n",
    "    negm_feat3[j] = feat3[j][feat3[j] < 0].mean()\n",
    "    poss_feat3[j] = feat3[j][feat3[j] > 0].std()\n",
    "    negs_feat3[j] = feat3[j][feat3[j] < 0].std()\n",
    "#'''\n",
    "#Neurons of Layer 4\n",
    "posm_feat4 = zeros(l4)\n",
    "negm_feat4 = zeros(l4)\n",
    "poss_feat4 = zeros(l4)\n",
    "negs_feat4 = zeros(l4)\n",
    "\n",
    "for j in range(l4):\n",
    "    posm_feat4[j] = feat4[j][feat4[j] > 0].mean()\n",
    "    negm_feat4[j] = feat4[j][feat4[j] < 0].mean()\n",
    "    poss_feat4[j] = feat4[j][feat4[j] > 0].std()\n",
    "    negs_feat4[j] = feat4[j][feat4[j] < 0].std()"
   ]
  },
  {
   "cell_type": "code",
   "execution_count": null,
   "metadata": {
    "collapsed": false
   },
   "outputs": [],
   "source": [
    "# rate * std range zero pruning\n",
    "rate = 0.7\n",
    "\n",
    "for x in range(l1):\n",
    "    for y in range(784):\n",
    "        if ((feat1[x,y] >= -std_feat1[x] * rate) & (feat1[x,y] <= rate * std_feat1[x])):\n",
    "        #if (((feat1[x,y] <= negm_feat1[x] - negs_feat1[x] * rate) | (feat1[x,y] >= posm_feat1[x] + rate * poss_feat1[x])) |\n",
    "        #((feat1[x,y] >= negm_feat1[x] + negs_feat1[x] * rate) & (feat1[x,y] <= posm_feat1[x] - rate * poss_feat1[x]))):\n",
    "            feat1[x,y] = 0\n",
    "            \n",
    "for x in range(l2):\n",
    "    for y in range(l1):\n",
    "        if ((feat2[x,y] >= -std_feat2[x] * rate) & (feat2[x,y] <= rate * std_feat2[x])):\n",
    "        #if (((feat2[x,y] <= negm_feat2[x] - negs_feat2[x] * rate) | (feat2[x,y] >= posm_feat2[x] + rate * poss_feat2[x])) |\n",
    "        #((feat2[x,y] >= negm_feat2[x] + negs_feat2[x] * rate) & (feat2[x,y] <= posm_feat2[x] - rate * poss_feat2[x]))):\n",
    "            feat2[x,y] = 0\n",
    "            \n",
    "for x in range(l3):\n",
    "    for y in range(l2):\n",
    "        if ((feat3[x,y] >= -std_feat3[x] * rate) & (feat3[x,y] <= rate * std_feat3[x])):\n",
    "        #if (((feat3[x,y] <= negm_feat3[x] - negs_feat3[x] * rate) | (feat3[x,y] >= posm_feat3[x] + rate * poss_feat3[x])) |\n",
    "        #((feat3[x,y] >= negm_feat3[x] + negs_feat3[x] * rate) & (feat3[x,y] <= posm_feat3[x] - rate * poss_feat3[x]))):\n",
    "            feat3[x,y] = 0\n",
    "            \n",
    "for x in range(l4):\n",
    "    for y in range(l3):\n",
    "        if ((feat4[x,y] >= -std_feat4[x] * rate) & (feat4[x,y] <= rate * std_feat4[x])):\n",
    "        #if (((feat4[x,y] <= negm_feat4[x] - negs_feat4[x] * rate) | (feat4[x,y] >= posm_feat4[x] + rate * poss_feat4[x])) |\n",
    "        #((feat4[x,y] >= negm_feat4[x] + negs_feat4[x] * rate) & (feat4[x,y] <= posm_feat4[x] - rate * poss_feat4[x]))):\n",
    "            feat4[x,y] = 0"
   ]
  },
  {
   "cell_type": "code",
   "execution_count": null,
   "metadata": {
    "collapsed": true
   },
   "outputs": [],
   "source": [
    "net1.save('examples/mlp/zeropr/pruned.caffemodel')"
   ]
  },
  {
   "cell_type": "code",
   "execution_count": null,
   "metadata": {
    "collapsed": false
   },
   "outputs": [],
   "source": [
    "ratio = zeros(4)\n",
    "\n",
    "for x in range(l1):\n",
    "    ratio[0] += (feat1[x] ==  0).sum()\n",
    "\n",
    "for x in range(l2):\n",
    "    ratio[1] += (feat2[x] ==  0).sum()\n",
    "    \n",
    "for x in range(l3):\n",
    "    ratio[2] += (feat3[x] ==  0).sum()\n",
    "    \n",
    "for x in range(l4):\n",
    "    ratio[3] += (feat4[x] ==  0).sum()\n",
    "\n",
    "print (ratio[0] / (784 * l1), ratio[1] / (l2 * l1), ratio[2] / (l3 * l2), ratio[3] / (l4 * l3))\n",
    "print ((ratio[0] + ratio[1] + ratio[2] + ratio[3]) / (784 * l1 + l1 * l2 + l2 * l3 + l3 * l4))"
   ]
  },
  {
   "cell_type": "code",
   "execution_count": null,
   "metadata": {
    "collapsed": false,
    "scrolled": false
   },
   "outputs": [],
   "source": [
    "plt.figure(figsize=(15, 15))\n",
    "'''\n",
    "plt.subplot(4,1,1)\n",
    "plt.hist(feat1[feat1 != 0].flat, bins = 784)\n",
    "plt.title(\"Input layer\")\n",
    "\n",
    "plt.subplot(4,1,2)\n",
    "plt.hist(feat2[feat2 != 0].flat, bins = 500)\n",
    "#plt.title(\"1'st layer\")\n",
    "'''\n",
    "plt.subplot(1,1,1)\n",
    "plt.hist(feat3[feat3 != 0].flat, bins = 5000)\n",
    "#plt.title(\"2'nd layer\")\n",
    "'''\n",
    "plt.subplot(4,1,4)\n",
    "plt.hist(feat4[feat4 != 0].flat, bins = 2000)\n",
    "plt.title(\"Last layer\")\n",
    "'''"
   ]
  },
  {
   "cell_type": "code",
   "execution_count": null,
   "metadata": {
    "collapsed": true
   },
   "outputs": [],
   "source": [
    "### Pruning End Here ###"
   ]
  },
  {
   "cell_type": "code",
   "execution_count": null,
   "metadata": {
    "collapsed": false
   },
   "outputs": [],
   "source": [
    "#Neurons of Layer 1\n",
    "posm_feat1 = zeros(l1)\n",
    "negm_feat1 = zeros(l1)\n",
    "poss_feat1 = zeros(l1)\n",
    "negs_feat1 = zeros(l1)\n",
    "\n",
    "for j in range(l1):\n",
    "    posm_feat1[j] = feat1[j][feat1[j] > 0].mean()\n",
    "    negm_feat1[j] = feat1[j][feat1[j] < 0].mean()\n",
    "    poss_feat1[j] = feat1[j][feat1[j] > 0].std()\n",
    "    negs_feat1[j] = feat1[j][feat1[j] < 0].std()\n",
    "    \n",
    "#Neurons of Layer 2\n",
    "posm_feat2 = zeros(l2)\n",
    "negm_feat2 = zeros(l2)\n",
    "poss_feat2 = zeros(l2)\n",
    "negs_feat2 = zeros(l2)\n",
    "\n",
    "for j in range(l2):\n",
    "    posm_feat2[j] = feat2[j][feat2[j] > 0].mean()\n",
    "    negm_feat2[j] = feat2[j][feat2[j] < 0].mean()\n",
    "    poss_feat2[j] = feat2[j][feat2[j] > 0].std()\n",
    "    negs_feat2[j] = feat2[j][feat2[j] < 0].std()\n",
    "\n",
    "#'''\n",
    "#Neurons of Layer 3\n",
    "posm_feat3 = zeros(l3)\n",
    "negm_feat3 = zeros(l3)\n",
    "poss_feat3 = zeros(l3)\n",
    "negs_feat3 = zeros(l3)\n",
    "\n",
    "for j in range(l3):\n",
    "    posm_feat3[j] = feat3[j][feat3[j] > 0].mean()\n",
    "    negm_feat3[j] = feat3[j][feat3[j] < 0].mean()\n",
    "    poss_feat3[j] = feat3[j][feat3[j] > 0].std()\n",
    "    negs_feat3[j] = feat3[j][feat3[j] < 0].std()\n",
    "#'''\n",
    "#Neurons of Layer 4\n",
    "posm_feat4 = zeros(l4)\n",
    "negm_feat4 = zeros(l4)\n",
    "poss_feat4 = zeros(l4)\n",
    "negs_feat4 = zeros(l4)\n",
    "\n",
    "for j in range(l4):\n",
    "    posm_feat4[j] = feat4[j][feat4[j] > 0].mean()\n",
    "    negm_feat4[j] = feat4[j][feat4[j] < 0].mean()\n",
    "    poss_feat4[j] = feat4[j][feat4[j] > 0].std()\n",
    "    negs_feat4[j] = feat4[j][feat4[j] < 0].std()\n",
    "#'''"
   ]
  },
  {
   "cell_type": "code",
   "execution_count": null,
   "metadata": {
    "collapsed": true
   },
   "outputs": [],
   "source": [
    "# Mean value Quantization\n",
    "\n",
    "for x in range(l1):\n",
    "    for y in range(784):\n",
    "        if (feat1[x, y] > 0):\n",
    "            feat1[x,y] = posm_feat1[x]\n",
    "        if (feat1[x, y] < 0):\n",
    "            feat1[x,y] = negm_feat1[x]\n",
    "#'''         \n",
    "for x in range(l2):\n",
    "    for y in range(l1):\n",
    "        if (feat2[x, y] > 0):\n",
    "            feat2[x,y] = posm_feat2[x]\n",
    "        if (feat2[x, y] < 0):\n",
    "            feat2[x,y] = negm_feat2[x]\n",
    "\n",
    "#'''\n",
    "for x in range(l3):\n",
    "    for y in range(l2):\n",
    "        if (feat3[x, y] > 0):\n",
    "            feat3[x,y] = posm_feat3[x]\n",
    "        if (feat3[x, y] < 0):\n",
    "            feat3[x,y] = negm_feat3[x]\n",
    "#'''            \n",
    "for x in range(l4):\n",
    "    for y in range(l3):\n",
    "        if (feat4[x, y] > 0):\n",
    "            feat4[x,y] = posm_feat4[x]\n",
    "        if (feat4[x, y] < 0):\n",
    "            feat4[x,y] = negm_feat4[x]\n",
    "#'''"
   ]
  },
  {
   "cell_type": "code",
   "execution_count": null,
   "metadata": {
    "collapsed": false
   },
   "outputs": [],
   "source": [
    "plt.figure(figsize=(15, 15))\n",
    "'''\n",
    "plt.subplot(4,1,1)\n",
    "plt.hist(feat1[feat1 != 0].flat, bins = 784)\n",
    "plt.title(\"Input layer\")\n",
    "\n",
    "plt.subplot(1,1,1)\n",
    "plt.hist(feat2[feat2 != 0].flat, bins = 5000)\n",
    "#plt.title(\"1'st layer\")\n",
    "'''\n",
    "plt.subplot(1,1,1)\n",
    "plt.hist(feat3[feat3 != 0].flat, bins = 5000)\n",
    "#plt.title(\"2'nd layer\")\n",
    "'''\n",
    "plt.subplot(4,1,4)\n",
    "plt.hist(feat4[feat4 != 0].flat, bins = 2000)\n",
    "plt.title(\"Last layer\")\n",
    "'''"
   ]
  },
  {
   "cell_type": "code",
   "execution_count": null,
   "metadata": {
    "collapsed": true
   },
   "outputs": [],
   "source": [
    "net1.save('examples/mlp/zeropr/quant.caffemodel')"
   ]
  },
  {
   "cell_type": "code",
   "execution_count": null,
   "metadata": {
    "collapsed": true
   },
   "outputs": [],
   "source": [
    "# Quantization End"
   ]
  },
  {
   "cell_type": "code",
   "execution_count": null,
   "metadata": {
    "collapsed": false
   },
   "outputs": [],
   "source": [
    "# same abolute values of posm and negm\n",
    "#'''\n",
    "for x in range(l1):\n",
    "    for y in range(784):\n",
    "        if (feat1[x, y] > 0):\n",
    "            feat1[x, y] = (posm_feat1[x] - negm_feat1[x]) / 2\n",
    "        if (feat1[x, y] < 0):\n",
    "            feat1[x, y] = (negm_feat1[x] - posm_feat1[x]) / 2\n",
    "        if (np.isnan(feat1[x, y])):\n",
    "            feat1[x, y] = 0\n",
    "#'''            \n",
    "for x in range(l2):\n",
    "    for y in range(l1):\n",
    "        if (feat2[x, y] > 0):\n",
    "            feat2[x,y] = (posm_feat2[x] - negm_feat2[x]) / 2\n",
    "        if (feat2[x, y] < 0):\n",
    "            feat2[x,y] = (negm_feat2[x] - posm_feat2[x]) / 2\n",
    "        if (np.isnan(feat2[x, y])):\n",
    "            feat2[x, y] = 0\n",
    "#'''           \n",
    "for x in range(l3):\n",
    "    for y in range(l2):\n",
    "        if (feat3[x, y] > 0):\n",
    "            feat3[x,y] = (posm_feat3[x] - negm_feat3[x]) / 2\n",
    "        if (feat3[x, y] < 0):\n",
    "            feat3[x,y] = (negm_feat3[x] - posm_feat3[x]) / 2\n",
    "        if (np.isnan(feat3[x, y])):\n",
    "            feat3[x, y] = 0\n",
    "#'''            \n",
    "for x in range(l4):\n",
    "    for y in range(l3):\n",
    "        if (feat4[x, y] > 0):\n",
    "            feat4[x,y] = (posm_feat4[x] - negm_feat4[x]) / 2\n",
    "        if (feat4[x, y] < 0):\n",
    "            feat4[x,y] = (negm_feat4[x] - posm_feat4[x]) / 2\n",
    "        if (np.isnan(feat4[x, y])):\n",
    "            feat4[x, y] = 0\n",
    "#'''"
   ]
  },
  {
   "cell_type": "code",
   "execution_count": null,
   "metadata": {
    "collapsed": false
   },
   "outputs": [],
   "source": [
    "plt.figure(figsize=(15, 15))\n",
    "'''\n",
    "plt.subplot(4,1,1)\n",
    "plt.hist(feat1[feat1 != 0].flat, bins = 784)\n",
    "plt.title(\"Input layer\")\n",
    "\n",
    "plt.subplot(1,1,1)\n",
    "plt.hist(feat2[feat2 != 0].flat, bins = 5000)\n",
    "#plt.title(\"1'st layer\")\n",
    "'''\n",
    "plt.subplot(1,1,1)\n",
    "plt.hist(feat3[feat3 != 0].flat, bins = 5000)\n",
    "#plt.title(\"2'nd layer\")\n",
    "'''\n",
    "plt.subplot(4,1,4)\n",
    "plt.hist(feat4[feat4 != 0].flat, bins = 2000)\n",
    "plt.title(\"Last layer\")\n",
    "'''"
   ]
  },
  {
   "cell_type": "code",
   "execution_count": null,
   "metadata": {
    "collapsed": true
   },
   "outputs": [],
   "source": [
    "net1.save('examples/mlp/zeropr/sameabs.caffemodel')"
   ]
  },
  {
   "cell_type": "code",
   "execution_count": null,
   "metadata": {
    "collapsed": true
   },
   "outputs": [],
   "source": [
    "# Iteration Ends"
   ]
  }
 ],
 "metadata": {
  "kernelspec": {
   "display_name": "Python 2",
   "language": "python",
   "name": "python2"
  },
  "language_info": {
   "codemirror_mode": {
    "name": "ipython",
    "version": 2
   },
   "file_extension": ".py",
   "mimetype": "text/x-python",
   "name": "python",
   "nbconvert_exporter": "python",
   "pygments_lexer": "ipython2",
   "version": "2.7.6"
  }
 },
 "nbformat": 4,
 "nbformat_minor": 0
}

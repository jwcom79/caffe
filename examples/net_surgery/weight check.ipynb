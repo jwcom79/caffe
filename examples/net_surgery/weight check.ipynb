{
 "cells": [
  {
   "cell_type": "code",
   "execution_count": 1,
   "metadata": {
    "collapsed": false
   },
   "outputs": [],
   "source": [
    "import os\n",
    "import numpy as np\n",
    "caffe_root = '/home/flathead/bitbucket/mycaffe/'\n",
    "os.chdir('../../')\n",
    "import sys\n",
    "sys.path.insert(0, 'python')\n",
    "import caffe"
   ]
  },
  {
   "cell_type": "code",
   "execution_count": 2,
   "metadata": {
    "collapsed": true
   },
   "outputs": [],
   "source": [
    "from pylab import *\n",
    "%matplotlib inline"
   ]
  },
  {
   "cell_type": "code",
   "execution_count": 3,
   "metadata": {
    "collapsed": true
   },
   "outputs": [],
   "source": [
    "import matplotlib.pyplot as plt\n",
    "from numpy.random import normal"
   ]
  },
  {
   "cell_type": "code",
   "execution_count": 4,
   "metadata": {
    "collapsed": true
   },
   "outputs": [],
   "source": [
    "caffe.set_mode_gpu()\n",
    "caffe.set_device(0)"
   ]
  },
  {
   "cell_type": "code",
   "execution_count": 5,
   "metadata": {
    "collapsed": false
   },
   "outputs": [],
   "source": [
    "solver = None  # ignore this workaround for lmdb data (can't instantiate two solvers on the same data)\n",
    "net1 = caffe.Net('examples/mlp/test/retrain/mlp_train_test.prototxt','examples/mlp/test/retrain/ret_iter_10000.caffemodel', caffe.TEST)\n",
    "#solver = caffe.SGDSolver('examples/mnist/lenet_solver.prototxt')"
   ]
  },
  {
   "cell_type": "code",
   "execution_count": null,
   "metadata": {
    "collapsed": true
   },
   "outputs": [],
   "source": [
    "#net1 = solver.net\n",
    "#test_net = solver.test_nets[0]"
   ]
  },
  {
   "cell_type": "code",
   "execution_count": null,
   "metadata": {
    "collapsed": false
   },
   "outputs": [],
   "source": [
    "[(k, v[0].data.shape) for k, v in net1.params.items()]\n",
    "#net1.blobs.items()\n",
    "#net1.params['conv1'][0].data[0]"
   ]
  },
  {
   "cell_type": "code",
   "execution_count": 6,
   "metadata": {
    "collapsed": false
   },
   "outputs": [
    {
     "data": {
      "text/plain": [
       "array([[  1.14246190e+00,  -1.16587766e-01,  -6.57855794e-02,\n",
       "         -1.32507369e-01,  -2.70841271e-01,  -2.00955451e-01,\n",
       "         -5.07661253e-02,  -1.89137682e-01,  -2.70476355e-03,\n",
       "         -1.33408040e-01,   3.29067439e-01,   3.09771180e-01,\n",
       "          1.58625230e-01,  -5.89233823e-02,   8.83131549e-02,\n",
       "         -2.34008968e-01,  -2.40968335e-02,   8.63433257e-02,\n",
       "          1.99397847e-01,  -3.03857774e-01,   1.01258762e-01,\n",
       "          1.68972492e-01,  -3.22472185e-01,  -2.94248968e-01,\n",
       "          2.02199042e-01,  -8.90267938e-02,  -5.93444668e-02,\n",
       "          1.76563799e-01,   2.11684853e-01,  -1.94272906e-01],\n",
       "       [ -4.78253663e-02,   1.20961237e+00,   4.05448563e-02,\n",
       "         -1.89477697e-01,  -1.32334784e-01,  -2.03341514e-01,\n",
       "         -2.75223970e-01,  -2.99102992e-01,  -1.17884994e-01,\n",
       "         -2.32896596e-01,   3.02014023e-01,   9.95756090e-02,\n",
       "         -1.51401669e-01,   1.68655619e-01,   2.21208736e-01,\n",
       "          2.33846247e-01,   9.14474502e-02,   5.44697754e-02,\n",
       "          4.08848524e-02,  -1.50682345e-01,   2.93207049e-01,\n",
       "          1.65973455e-01,  -3.65409367e-02,  -2.20701084e-01,\n",
       "         -2.60723144e-01,   2.20938504e-01,   1.36840791e-01,\n",
       "          3.74688394e-02,  -1.69154882e-01,  -2.82221407e-01],\n",
       "       [ -7.43344277e-02,   3.36157493e-02,   1.25433934e+00,\n",
       "         -8.04824457e-02,  -1.55456051e-01,  -7.90456831e-02,\n",
       "         -9.22031850e-02,  -1.66666389e-01,  -3.89528833e-02,\n",
       "         -1.39978025e-02,  -3.35056663e-01,  -3.32479864e-01,\n",
       "         -3.25599313e-01,  -2.29128093e-01,  -2.71804839e-01,\n",
       "         -1.88533574e-01,   1.13123074e-01,   3.71514946e-01,\n",
       "         -2.22395748e-01,  -4.25415523e-02,   3.84679437e-01,\n",
       "          1.13314092e-01,   9.70430374e-02,   2.43571371e-01,\n",
       "          7.62903467e-02,   1.25708476e-01,   4.27083641e-01,\n",
       "         -3.95621687e-01,  -2.55064160e-01,   2.89379150e-01],\n",
       "       [ -4.56321426e-02,  -8.00242946e-02,  -2.08326027e-01,\n",
       "          1.10027397e+00,  -2.26911306e-01,  -1.79534301e-01,\n",
       "         -7.50996172e-02,  -1.48675129e-01,  -1.24233291e-01,\n",
       "         -1.87597096e-01,  -1.71475098e-01,   3.35142851e-01,\n",
       "          3.18776876e-01,   1.58716381e-01,   2.53819108e-01,\n",
       "         -2.73179322e-01,   1.51589364e-01,   2.64171988e-01,\n",
       "          2.44360611e-01,   4.85948361e-02,  -1.56179920e-01,\n",
       "         -2.48152986e-01,   7.54399523e-02,   1.27287641e-01,\n",
       "         -5.87076843e-02,   7.27159008e-02,  -3.89294893e-01,\n",
       "          7.82044530e-02,  -2.41950959e-01,  -1.99712172e-01],\n",
       "       [  9.55353528e-02,   1.10050261e-01,  -1.98084280e-01,\n",
       "         -1.64295673e-01,   1.04002404e+00,  -2.57034123e-01,\n",
       "         -2.14756981e-01,  -2.60649800e-01,  -4.65888083e-02,\n",
       "         -2.35439777e-01,  -1.17070682e-01,  -8.69296193e-02,\n",
       "          1.63185433e-01,  -2.85849303e-01,   3.20110381e-01,\n",
       "         -3.32688272e-01,   1.22609749e-01,  -3.30796778e-01,\n",
       "          8.72427672e-02,  -1.31604835e-01,  -1.24656536e-01,\n",
       "         -1.07851639e-01,   2.36604065e-01,  -5.06167859e-02,\n",
       "          4.71696461e-04,   5.34931682e-02,  -2.47478008e-01,\n",
       "          2.72728920e-01,  -3.44405591e-01,   1.83550222e-03],\n",
       "       [ -1.43113852e-01,  -1.54279873e-01,   1.78609472e-02,\n",
       "         -8.15488771e-03,  -2.79384524e-01,   1.13232422e+00,\n",
       "          1.63799189e-02,  -6.80204555e-02,  -3.16708684e-02,\n",
       "         -1.24131944e-02,   3.14311892e-01,  -1.56654239e-01,\n",
       "         -2.13807940e-01,   5.53218350e-02,  -3.46095800e-01,\n",
       "          7.17593059e-02,   1.82037741e-01,   2.43710652e-02,\n",
       "          1.60523206e-01,  -1.20381311e-01,  -2.36399751e-02,\n",
       "         -4.19866323e-01,  -6.43285066e-02,  -7.00502610e-03,\n",
       "          3.30733180e-01,  -2.52514362e-01,   1.69552833e-01,\n",
       "         -1.33010566e-01,   1.94179669e-01,  -1.77593052e-01],\n",
       "       [  1.61571428e-02,   3.98997813e-02,  -1.38011262e-01,\n",
       "         -1.09085359e-01,  -1.64876476e-01,  -3.84333543e-02,\n",
       "          1.12638605e+00,  -4.49044034e-02,   9.91428345e-02,\n",
       "         -2.06888467e-01,  -7.55613446e-02,   2.19890520e-01,\n",
       "         -3.08710754e-01,   3.23524773e-01,   1.83332562e-01,\n",
       "          1.69641653e-03,  -1.08606577e-01,  -6.46726862e-02,\n",
       "          6.81856275e-02,   1.81470901e-01,  -2.03507110e-01,\n",
       "          4.03764606e-01,  -3.24719250e-01,  -2.33789921e-01,\n",
       "         -8.46064761e-02,   2.60010183e-01,  -3.10042292e-01,\n",
       "          1.90479606e-01,   1.09826744e-01,  -1.31570414e-01],\n",
       "       [  2.13198271e-03,  -1.28517412e-02,  -1.56680956e-01,\n",
       "         -1.24595717e-01,  -2.21195757e-01,  -5.99327274e-02,\n",
       "          1.01723447e-01,   1.27664638e+00,   7.59698823e-02,\n",
       "         -1.30994335e-01,   4.03746575e-01,  -3.98232527e-02,\n",
       "          1.83949843e-01,   1.45233218e-02,  -2.31796026e-01,\n",
       "          1.14271119e-01,  -3.02358657e-01,  -2.49070123e-01,\n",
       "          3.27320725e-01,   2.48299822e-01,   1.20282561e-01,\n",
       "          3.51122976e-03,  -7.19970837e-02,  -2.01163456e-01,\n",
       "          9.56191346e-02,  -3.57440174e-01,   3.66983265e-01,\n",
       "         -2.70039123e-02,  -2.48968154e-01,   2.52797127e-01],\n",
       "       [ -6.09645732e-02,  -1.10316209e-01,  -1.83550507e-01,\n",
       "         -7.65355974e-02,  -1.67766377e-01,  -1.89412534e-01,\n",
       "         -6.35205954e-02,  -1.13295704e-01,   1.01570320e+00,\n",
       "         -2.45301783e-01,   3.70459110e-01,  -2.18620539e-01,\n",
       "          3.01314741e-01,   3.50690067e-01,   2.64802068e-01,\n",
       "         -4.88904938e-02,  -3.01033318e-01,  -2.82439739e-01,\n",
       "         -2.62900919e-01,  -2.40549892e-02,  -1.05147131e-01,\n",
       "          1.03670417e-03,  -2.43637145e-01,  -7.49503225e-02,\n",
       "         -2.02083960e-01,   9.32218507e-02,  -1.52011380e-01,\n",
       "          1.18596055e-01,   2.14045659e-01,  -1.88942760e-01],\n",
       "       [ -1.49100512e-01,   3.44730727e-02,   4.82643925e-04,\n",
       "         -9.22497809e-02,  -2.03226313e-01,  -1.06703535e-01,\n",
       "         -5.24393283e-02,  -2.44262993e-01,  -7.92645887e-02,\n",
       "          1.15803277e+00,  -5.08223549e-02,   1.10216439e-01,\n",
       "         -4.69080299e-01,  -4.32139784e-01,   3.50567669e-01,\n",
       "          6.39389902e-02,  -3.45692813e-01,   1.89639956e-01,\n",
       "         -9.78665873e-02,   5.73036522e-02,  -3.01910162e-01,\n",
       "         -5.56662619e-01,   1.32298023e-01,   8.55856240e-02,\n",
       "          3.39281023e-01,  -2.56946325e-01,  -2.70588379e-02,\n",
       "         -5.51257730e-02,   4.49373797e-02,  -2.23350167e-01]], dtype=float32)"
      ]
     },
     "execution_count": 6,
     "metadata": {},
     "output_type": "execute_result"
    }
   ],
   "source": [
    "net1.params['ip4'][0].data"
   ]
  },
  {
   "cell_type": "code",
   "execution_count": null,
   "metadata": {
    "collapsed": false
   },
   "outputs": [],
   "source": [
    "net1.params['ip3'][0].data[0]"
   ]
  },
  {
   "cell_type": "code",
   "execution_count": null,
   "metadata": {
    "collapsed": false
   },
   "outputs": [],
   "source": [
    "%%time\n",
    "niter = 10000\n",
    "test_interval = 5000\n",
    "train_loss = zeros(niter)\n",
    "test_acc = zeros(int(np.ceil(niter / test_interval)))\n",
    "output = zeros((niter, 8, 10))\n",
    "\n",
    "for it in range(niter):\n",
    "    solver.step(1)\n",
    "    #net1.forward()\n",
    "    \n",
    "    train_loss[it] = net1.blobs['loss'].data\n",
    "    \n",
    "    net1.forward(start='conv1')\n",
    "    output[it] = test_net.blobs['ip3'].data[:8]\n",
    "\n",
    "    if it % test_interval == 0:\n",
    "        print 'iteration', it, 'testing...'\n",
    "        correct = 0\n",
    "        for test_it in range(100):\n",
    "            test_net.forward()\n",
    "            correct += sum(test_net.blobs['ip3'].data.argmax(1) == test_net.blobs['label'].data)\n",
    "        test_acc[it // test_interval] = correct / 1e4"
   ]
  },
  {
   "cell_type": "code",
   "execution_count": null,
   "metadata": {
    "collapsed": false,
    "scrolled": false
   },
   "outputs": [],
   "source": [
    "plt.figure(figsize=(15, 15))\n",
    "\n",
    "feat1 = net1.params['conv1'][0].data\n",
    "feat2 = net1.params['conv2'][0].data\n",
    "feat3 = net1.params['ip1'][0].data\n",
    "feat4 = net1.params['ip2'][0].data\n",
    "#feat4 = net1.params['ip3'][0].data\n",
    "\n",
    "plt.subplot(2, 2, 1)\n",
    "#plt.hist(train_net.params['ip1'][0].data)\n",
    "plt.hist(feat1.flat, bins = 1000)\n",
    "#plt.title(\"ip1_weight\")\n",
    "\n",
    "#plt.xlabel(\"weight\")\n",
    "plt.subplot(2, 2, 2)\n",
    "#plt.hist(train_net.params['ip2'][0].data)\n",
    "plt.hist(feat2.flat, bins = 1000)\n",
    "#plt.title(\"ip2_weight\")\n",
    "\n",
    "plt.subplot(2, 2, 3)\n",
    "#plt.hist(train_net.params['ip3'][0].data)\n",
    "plt.hist(feat3)\n",
    "#plt.title(\"ip3_weight\")\n",
    "\n",
    "plt.subplot(2, 2, 4)\n",
    "#plt.hist(train_net.params['ip4'][0].data)\n",
    "plt.hist(feat4)\n",
    "#plt.title(\"ip4_weight\")\n",
    "\n",
    "plt.show()"
   ]
  },
  {
   "cell_type": "code",
   "execution_count": null,
   "metadata": {
    "collapsed": false
   },
   "outputs": [],
   "source": [
    "std_feat1 = feat1.std()\n",
    "mean_feat1 = feat1.mean()\n",
    "print \"std_feat1 = \", std_feat1\n",
    "print \"mean_feat1 = \", mean_feat1\n",
    "std_feat2 = feat2.std()\n",
    "mean_feat2 = feat2.mean()\n",
    "print \"std_feat2 = \", std_feat2\n",
    "print \"mean_feat2 = \", mean_feat2\n",
    "std_feat3 = feat3.std()\n",
    "mean_feat3 = feat3.mean()\n",
    "print \"std_feat3 = \", std_feat3\n",
    "print \"mean_feat3 = \", mean_feat3\n",
    "std_feat4 = feat4.std()\n",
    "mean_feat4 = feat4.mean()\n",
    "print \"std_feat4 = \", std_feat4\n",
    "print \"mean_feat4 = \", mean_feat4"
   ]
  },
  {
   "cell_type": "code",
   "execution_count": null,
   "metadata": {
    "collapsed": true
   },
   "outputs": [],
   "source": [
    "feat1 = net1.params['ip1'][1].data"
   ]
  },
  {
   "cell_type": "code",
   "execution_count": null,
   "metadata": {
    "collapsed": true
   },
   "outputs": [],
   "source": [
    "net1."
   ]
  }
 ],
 "metadata": {
  "kernelspec": {
   "display_name": "Python 2",
   "language": "python",
   "name": "python2"
  },
  "language_info": {
   "codemirror_mode": {
    "name": "ipython",
    "version": 2
   },
   "file_extension": ".py",
   "mimetype": "text/x-python",
   "name": "python",
   "nbconvert_exporter": "python",
   "pygments_lexer": "ipython2",
   "version": "2.7.6"
  }
 },
 "nbformat": 4,
 "nbformat_minor": 0
}

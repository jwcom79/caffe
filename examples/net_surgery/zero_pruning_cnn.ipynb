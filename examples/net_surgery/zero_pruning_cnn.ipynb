{
 "cells": [
  {
   "cell_type": "code",
   "execution_count": 1,
   "metadata": {
    "collapsed": true
   },
   "outputs": [],
   "source": [
    "import os\n",
    "import numpy as np\n",
    "caffe_root = '/home/flathead/bitbucket/mycaffe/'\n",
    "os.chdir('../../')\n",
    "import sys\n",
    "sys.path.insert(0, 'python')\n",
    "import caffe"
   ]
  },
  {
   "cell_type": "code",
   "execution_count": 2,
   "metadata": {
    "collapsed": true
   },
   "outputs": [],
   "source": [
    "from pylab import *\n",
    "%matplotlib inline"
   ]
  },
  {
   "cell_type": "code",
   "execution_count": 3,
   "metadata": {
    "collapsed": true
   },
   "outputs": [],
   "source": [
    "import matplotlib.pyplot as plt\n",
    "from numpy.random import normal"
   ]
  },
  {
   "cell_type": "code",
   "execution_count": 4,
   "metadata": {
    "collapsed": true
   },
   "outputs": [],
   "source": [
    "caffe.set_mode_gpu()\n",
    "caffe.set_device(0)"
   ]
  },
  {
   "cell_type": "code",
   "execution_count": 5,
   "metadata": {
    "collapsed": true
   },
   "outputs": [],
   "source": [
    "solver = None  # ignore this workaround for lmdb data (can't instantiate two solvers on the same data)\n",
    "solver = caffe.SGDSolver('examples/mnist/lenet_solver.prototxt')"
   ]
  },
  {
   "cell_type": "code",
   "execution_count": 6,
   "metadata": {
    "collapsed": true
   },
   "outputs": [],
   "source": [
    "net1 = solver.net\n",
    "test_net = solver.test_nets[0]"
   ]
  },
  {
   "cell_type": "code",
   "execution_count": 7,
   "metadata": {
    "collapsed": false
   },
   "outputs": [
    {
     "data": {
      "text/plain": [
       "[('data', (64, 1, 28, 28)),\n",
       " ('label', (64,)),\n",
       " ('conv2', (64, 50, 24, 24)),\n",
       " ('pool2', (64, 50, 12, 12)),\n",
       " ('ip1', (64, 500)),\n",
       " ('ip2', (64, 10)),\n",
       " ('loss', ())]"
      ]
     },
     "execution_count": 7,
     "metadata": {},
     "output_type": "execute_result"
    }
   ],
   "source": [
    "# during training, each output is (batch size, feature dim, spatial dim)\n",
    "[(k, v.data.shape) for k, v in net1.blobs.items()]"
   ]
  },
  {
   "cell_type": "code",
   "execution_count": 8,
   "metadata": {
    "collapsed": false
   },
   "outputs": [
    {
     "data": {
      "text/plain": [
       "[('conv2', (50, 1, 5, 5)), ('ip1', (500, 7200)), ('ip2', (10, 500))]"
      ]
     },
     "execution_count": 8,
     "metadata": {},
     "output_type": "execute_result"
    }
   ],
   "source": [
    "# just print the weight sizes (we'll omit the biases)\n",
    "[(k, v[0].data.shape) for k, v in net1.params.items()]"
   ]
  },
  {
   "cell_type": "code",
   "execution_count": 9,
   "metadata": {
    "collapsed": false
   },
   "outputs": [
    {
     "data": {
      "text/plain": [
       "{'accuracy': array(0.07999999821186066, dtype=float32),\n",
       " 'loss': array(2.336747884750366, dtype=float32)}"
      ]
     },
     "execution_count": 9,
     "metadata": {},
     "output_type": "execute_result"
    }
   ],
   "source": [
    "test_net.forward()"
   ]
  },
  {
   "cell_type": "code",
   "execution_count": 10,
   "metadata": {
    "collapsed": true
   },
   "outputs": [],
   "source": [
    "feat1 = net1.params['ip1'][0].data\n",
    "feat2 = net1.params['ip2'][0].data"
   ]
  },
  {
   "cell_type": "code",
   "execution_count": 11,
   "metadata": {
    "collapsed": true
   },
   "outputs": [],
   "source": [
    "l1 = 500\n",
    "l2 = 10"
   ]
  },
  {
   "cell_type": "code",
   "execution_count": 12,
   "metadata": {
    "collapsed": false
   },
   "outputs": [
    {
     "name": "stdout",
     "output_type": "stream",
     "text": [
      "iteration 0 testing...\n",
      "iteration 5000 testing...\n",
      "iteration 10000 testing...\n",
      "iteration 15000 testing...\n",
      "iteration 20000 testing...\n",
      "CPU times: user 1min 56s, sys: 16.8 s, total: 2min 13s\n",
      "Wall time: 1min 52s\n"
     ]
    }
   ],
   "source": [
    "%%time\n",
    "niter = 25000\n",
    "test_interval = 5000\n",
    "train_loss = zeros(niter)\n",
    "test_acc = zeros(int(np.ceil(niter / test_interval)))\n",
    "output = zeros((niter, 8, 10))\n",
    "\n",
    "for it in range(niter):\n",
    "    solver.step(1)\n",
    "    #net1.forward()\n",
    "    \n",
    "    train_loss[it] = net1.blobs['loss'].data\n",
    "    \n",
    "    net1.forward(start='conv2')\n",
    "    output[it] = test_net.blobs['ip2'].data[:8]\n",
    "\n",
    "    if it % test_interval == 0:\n",
    "        print 'iteration', it, 'testing...'\n",
    "        correct = 0\n",
    "        for test_it in range(100):\n",
    "            test_net.forward()\n",
    "            correct += sum(test_net.blobs['ip2'].data.argmax(1) == test_net.blobs['label'].data)\n",
    "        test_acc[it // test_interval] = correct / 1e4"
   ]
  },
  {
   "cell_type": "code",
   "execution_count": 13,
   "metadata": {
    "collapsed": false
   },
   "outputs": [],
   "source": [
    "net1.save('examples/mnist/baseline.caffemodel')"
   ]
  },
  {
   "cell_type": "code",
   "execution_count": null,
   "metadata": {
    "collapsed": false
   },
   "outputs": [],
   "source": [
    "plt.figure(figsize=(15, 15))\n",
    "\n",
    "plt.subplot(311)\n",
    "plt.hist(feat1[0].flat, bins= 500, range=(-1, 1))\n",
    "plt.title(\"ip1_weight\")\n",
    "\n",
    "plt.subplot(312)\n",
    "plt.hist(feat2[0].flat, bins= 500, range=(-1, 1))\n",
    "plt.title(\"ip2_weight\")"
   ]
  },
  {
   "cell_type": "code",
   "execution_count": 14,
   "metadata": {
    "collapsed": false
   },
   "outputs": [],
   "source": [
    "#Neurons of Layer 1\n",
    "mean_feat1 = [0] * l1\n",
    "std_feat1 = [0] * l1\n",
    "\n",
    "for j in range(l1):\n",
    "    mean_feat1[j] = feat1[j].mean()\n",
    "    std_feat1[j] = feat1[j].std()\n",
    "    \n",
    "#Neurons of Layer 2\n",
    "mean_feat2 = [0] * l2\n",
    "std_feat2 = [0] * l2\n",
    "\n",
    "for j in range(l2):\n",
    "    mean_feat2[j] = feat2[j].mean()\n",
    "    std_feat2[j] = feat2[j].std()"
   ]
  },
  {
   "cell_type": "code",
   "execution_count": 15,
   "metadata": {
    "collapsed": true
   },
   "outputs": [],
   "source": [
    "#Neurons of Layer 1\n",
    "posm_feat1 = [0] * l1\n",
    "negm_feat1 = [0] * l1\n",
    "poss_feat1 = [0] * l1\n",
    "negs_feat1 = [0] * l1\n",
    "\n",
    "for j in range(l1):\n",
    "    posm_feat1[j] = feat1[j][feat1[j] > 0].mean()\n",
    "    negm_feat1[j] = feat1[j][feat1[j] < 0].mean()\n",
    "    poss_feat1[j] = feat1[j][feat1[j] > 0].std()\n",
    "    negs_feat1[j] = feat1[j][feat1[j] < 0].std()\n",
    "    \n",
    "#Neurons of Layer 2\n",
    "posm_feat2 = [0] * l2\n",
    "negm_feat2 = [0] * l2\n",
    "poss_feat2 = [0] * l2\n",
    "negs_feat2 = [0] * l2\n",
    "\n",
    "for j in range(l2):\n",
    "    posm_feat2[j] = feat2[j][feat2[j] > 0].mean()\n",
    "    negm_feat2[j] = feat2[j][feat2[j] < 0].mean()\n",
    "    poss_feat2[j] = feat2[j][feat2[j] > 0].std()\n",
    "    negs_feat2[j] = feat2[j][feat2[j] < 0].std()"
   ]
  },
  {
   "cell_type": "code",
   "execution_count": 18,
   "metadata": {
    "collapsed": false
   },
   "outputs": [],
   "source": [
    "# 0.8 * std range zero pruning\n",
    "a1 = [0] * l1\n",
    "a2 = [0] * l1\n",
    "b1 = [0] * l2\n",
    "b2 = [0] * l2\n",
    "\n",
    "for x in range(l1):\n",
    "    a1[x] = (posm_feat1[x] - 0) * 0.8\n",
    "    a2[x] = (0 - negm_feat1[x]) * 0.8\n",
    "for y in range(l2):\n",
    "    b1[y] = (posm_feat2[y] - 0) * 0.8\n",
    "    b2[y] = (0 - negm_feat2[y]) * 0.8\n",
    "    \n",
    "for x in range(l1):\n",
    "    for y in range(7200):\n",
    "        if ((feat1[x][y] >= -a2[x]) & (feat1[x][y] <= a1[x])):\n",
    "            feat1[x][y] = 0\n",
    "            \n",
    "for x in range(l2):\n",
    "    for y in range(l1):\n",
    "        if (feat2[x][y] >= -b2[x]) & (feat2[x][y] <= b1[x]):\n",
    "            feat2[x][y] = 0"
   ]
  },
  {
   "cell_type": "code",
   "execution_count": null,
   "metadata": {
    "collapsed": false,
    "scrolled": false
   },
   "outputs": [],
   "source": [
    "plt.figure(figsize=(15, 15))\n",
    "\n",
    "plt.subplot(311)\n",
    "plt.hist(feat1[0].flat, bins= 500, range=(-1, 1))\n",
    "plt.title(\"ip1_weight\")\n",
    "\n",
    "plt.subplot(312)\n",
    "plt.hist(feat2[0].flat, bins= 500, range=(-1, 1))\n",
    "plt.title(\"ip2_weight\")"
   ]
  },
  {
   "cell_type": "code",
   "execution_count": null,
   "metadata": {
    "collapsed": false
   },
   "outputs": [],
   "source": [
    "for x in range(l1):\n",
    "    print (feat1[x] == 0).sum()\n",
    "for y in range(l2):\n",
    "    print (feat2[y] == 0).sum()"
   ]
  },
  {
   "cell_type": "code",
   "execution_count": 19,
   "metadata": {
    "collapsed": true
   },
   "outputs": [],
   "source": [
    "net1.save('examples/mnist/zeropr/pruned.caffemodel')"
   ]
  },
  {
   "cell_type": "code",
   "execution_count": 20,
   "metadata": {
    "collapsed": true
   },
   "outputs": [],
   "source": [
    "#Neurons of Layer 1\n",
    "posm_feat1 = [0] * l1\n",
    "negm_feat1 = [0] * l1\n",
    "poss_feat1 = [0] * l1\n",
    "negs_feat1 = [0] * l1\n",
    "\n",
    "for j in range(l1):\n",
    "    posm_feat1[j] = feat1[j][feat1[j] > 0].mean()\n",
    "    negm_feat1[j] = feat1[j][feat1[j] < 0].mean()\n",
    "    poss_feat1[j] = feat1[j][feat1[j] > 0].std()\n",
    "    negs_feat1[j] = feat1[j][feat1[j] < 0].std()\n",
    "    \n",
    "#Neurons of Layer 2\n",
    "posm_feat2 = [0] * l2\n",
    "negm_feat2 = [0] * l2\n",
    "poss_feat2 = [0] * l2\n",
    "negs_feat2 = [0] * l2\n",
    "\n",
    "for j in range(l2):\n",
    "    posm_feat2[j] = feat2[j][feat2[j] > 0].mean()\n",
    "    negm_feat2[j] = feat2[j][feat2[j] < 0].mean()\n",
    "    poss_feat2[j] = feat2[j][feat2[j] > 0].std()\n",
    "    negs_feat2[j] = feat2[j][feat2[j] < 0].std()"
   ]
  },
  {
   "cell_type": "code",
   "execution_count": 21,
   "metadata": {
    "collapsed": false
   },
   "outputs": [],
   "source": [
    "# Mean value Quantization\n",
    "\n",
    "for x in range(l1):\n",
    "    for y in range(7200):\n",
    "        if (feat1[x][y] > 0):\n",
    "            feat1[x][y] = posm_feat1[x]\n",
    "        if (feat1[x][y] < 0):\n",
    "            feat1[x][y] = negm_feat1[x]\n",
    "            \n",
    "for x in range(l2):\n",
    "    for y in range(l1):\n",
    "        if (feat2[x][y] > 0):\n",
    "            feat2[x][y] = posm_feat2[x]\n",
    "        if (feat2[x][y] < 0):\n",
    "            feat2[x][y] = negm_feat2[x]"
   ]
  },
  {
   "cell_type": "code",
   "execution_count": 22,
   "metadata": {
    "collapsed": true
   },
   "outputs": [],
   "source": [
    "net1.save('examples/mnist/zeropr/quantization.caffemodel')"
   ]
  },
  {
   "cell_type": "code",
   "execution_count": null,
   "metadata": {
    "collapsed": false,
    "scrolled": true
   },
   "outputs": [],
   "source": [
    "for x in range(l1):\n",
    "    print ((feat1[x] == posm_feat1[x]) | (feat1[x] == negm_feat1[x]) | (feat1[x] == 0)).sum()\n",
    "for y in range(l2):\n",
    "    print ((feat2[y] == posm_feat2[y]) | (feat2[y] == negm_feat2[y]) | (feat2[y] == 0)).sum()"
   ]
  },
  {
   "cell_type": "code",
   "execution_count": 23,
   "metadata": {
    "collapsed": false
   },
   "outputs": [],
   "source": [
    "# Same abolute values of posm and negm\n",
    "\n",
    "for x in range(l1):\n",
    "    for y in range(7200):\n",
    "        if (feat1[x][y] > 0):\n",
    "            feat1[x][y] = (posm_feat1[x] - negm_feat1[x]) / 2\n",
    "        if (feat1[x][y] < 0):\n",
    "            feat1[x][y] = (negm_feat1[x] - posm_feat1[x]) / 2\n",
    "            \n",
    "for x in range(l2):\n",
    "    for y in range(l1):\n",
    "        if (feat2[x][y] > 0):\n",
    "            feat2[x][y] = (posm_feat2[x] - negm_feat2[x]) / 2\n",
    "        if (feat2[x][y] < 0):\n",
    "            feat2[x][y] = (negm_feat2[x] - posm_feat2[x]) / 2"
   ]
  },
  {
   "cell_type": "code",
   "execution_count": 24,
   "metadata": {
    "collapsed": true
   },
   "outputs": [],
   "source": [
    "net1.save('examples/mnist/zeropr/same_abs.caffemodel')"
   ]
  },
  {
   "cell_type": "code",
   "execution_count": null,
   "metadata": {
    "collapsed": false
   },
   "outputs": [],
   "source": [
    "plt.figure(figsize=(15, 100))\n",
    "#plt.hist(train_net.params['ip1'][0].data)\n",
    "for j in range(1,21):\n",
    "    plt.subplot(21,1,j)\n",
    "    plt.hist(feat1[j-1], bins = 784)\n",
    "    plt.title(j)"
   ]
  },
  {
   "cell_type": "code",
   "execution_count": null,
   "metadata": {
    "collapsed": false
   },
   "outputs": [],
   "source": [
    "for x in range(l1):\n",
    "    print [(posm_feat1[x] + negm_feat1[x])/2]\n",
    "           \n",
    "for x in range(l2):\n",
    "    print [(posm_feat2[x] + negm_feat2[x])/2]"
   ]
  },
  {
   "cell_type": "code",
   "execution_count": null,
   "metadata": {
    "collapsed": false
   },
   "outputs": [],
   "source": [
    "for x in range(l1):\n",
    "    print ((feat1[x] == (posm_feat1[x] - negm_feat1[x])/2) | (feat1[x] == -(posm_feat1[x] - negm_feat1[x])/2) | (feat1[x] == 0)).sum()\n",
    "for y in range(l2):\n",
    "    print ((feat2[y] == (posm_feat2[y] - negm_feat2[y])/2) | (feat2[y] == -(posm_feat2[y] - negm_feat2[y])/2) | (feat2[y] == 0)).sum()"
   ]
  },
  {
   "cell_type": "code",
   "execution_count": null,
   "metadata": {
    "collapsed": false
   },
   "outputs": [],
   "source": [
    "net1.blobs['ip1'].data[63].std()"
   ]
  },
  {
   "cell_type": "code",
   "execution_count": null,
   "metadata": {
    "collapsed": true
   },
   "outputs": [],
   "source": []
  }
 ],
 "metadata": {
  "kernelspec": {
   "display_name": "Python 2",
   "language": "python",
   "name": "python2"
  },
  "language_info": {
   "codemirror_mode": {
    "name": "ipython",
    "version": 2
   },
   "file_extension": ".py",
   "mimetype": "text/x-python",
   "name": "python",
   "nbconvert_exporter": "python",
   "pygments_lexer": "ipython2",
   "version": "2.7.6"
  }
 },
 "nbformat": 4,
 "nbformat_minor": 0
}

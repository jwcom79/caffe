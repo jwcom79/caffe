{
 "cells": [
  {
   "cell_type": "code",
   "execution_count": 1,
   "metadata": {
    "collapsed": true
   },
   "outputs": [],
   "source": [
    "import sys \n",
    "sys.dont_write_bytecode = True\n",
    "\n",
    "import tensorflow as tf\n",
    "import numpy as np\n",
    "import argparse\n",
    "import scipy.sparse as sp"
   ]
  },
  {
   "cell_type": "code",
   "execution_count": 2,
   "metadata": {
    "collapsed": true
   },
   "outputs": [],
   "source": [
    "from __future__ import absolute_import\n",
    "from __future__ import division\n",
    "from __future__ import print_function"
   ]
  },
  {
   "cell_type": "code",
   "execution_count": 4,
   "metadata": {
    "collapsed": false
   },
   "outputs": [
    {
     "name": "stdout",
     "output_type": "stream",
     "text": [
      "Extracting /tmp/data/train-images-idx3-ubyte.gz\n",
      "Extracting /tmp/data/train-labels-idx1-ubyte.gz\n",
      "Extracting /tmp/data/t10k-images-idx3-ubyte.gz\n",
      "Extracting /tmp/data/t10k-labels-idx1-ubyte.gz\n"
     ]
    }
   ],
   "source": [
    "from tensorflow.examples.tutorials.mnist import input_data\n",
    "mnist = input_data.read_data_sets('/tmp/data/', one_hot=True)\n",
    "\n",
    "sess = tf.InteractiveSession()"
   ]
  },
  {
   "cell_type": "code",
   "execution_count": 13,
   "metadata": {
    "collapsed": false
   },
   "outputs": [],
   "source": [
    "dense_w = {\n",
    "    \"w_ip1\": tf.Variable(tf.truncated_normal([784, 1024], stddev=0.1), name=\"w_ip1\"),\n",
    "    \"b_ip1\": tf.Variable(tf.constant(0.1, shape=[1024]), name=\"b_ip1\"),\n",
    "    \"w_ip2\": tf.Variable(tf.truncated_normal([1024, 1024], stddev=0.1), name=\"w_ip2\"),\n",
    "    \"b_ip2\": tf.Variable(tf.constant(0.1, shape=[1024]), name=\"b_ip2\"),\n",
    "    \"w_ip3\": tf.Variable(tf.truncated_normal([1024, 10], stddev=0.1), name=\"w_ip3\"),\n",
    "    \"b_ip3\": tf.Variable(tf.constant(0.1, shape=[10]), name=\"b_ip3\"),\n",
    "}"
   ]
  },
  {
   "cell_type": "code",
   "execution_count": 14,
   "metadata": {
    "collapsed": true
   },
   "outputs": [],
   "source": [
    "x = tf.placeholder(\"float\", shape=[None, 784])\n",
    "y_ = tf.placeholder(\"float\", shape=[None, 10])\n",
    "keep_prob = tf.placeholder(\"float\")"
   ]
  },
  {
   "cell_type": "code",
   "execution_count": 15,
   "metadata": {
    "collapsed": true
   },
   "outputs": [],
   "source": [
    "def dense_dnn_model(weights):\n",
    "    x_image = tf.reshape(x, [-1, 28*28])\n",
    "    h_ip1 = tf.nn.relu(tf.matmul(x_image, weights[\"w_ip1\"]) + weights[\"b_ip1\"])\n",
    "    h_ip1_drop = tf.nn.dropout(h_ip1, keep_prob)\n",
    "    h_ip2 = tf.nn.relu(tf.matmul(h_ip1_drop, weights[\"w_ip2\"]) + weights[\"b_ip2\"])\n",
    "    h_ip2_drop = tf.nn.dropout(h_ip2, keep_prob)\n",
    "    y_conv = tf.nn.softmax(tf.matmul(h_ip2_drop, weights[\"w_ip3\"]) + weights[\"b_ip3\"])\n",
    "    return y_conv"
   ]
  },
  {
   "cell_type": "code",
   "execution_count": 32,
   "metadata": {
    "collapsed": true
   },
   "outputs": [],
   "source": [
    "def test(y_infer, message=\"None.\"):\n",
    "    correct_prediction = tf.equal(tf.argmax(y_infer, 1), tf.argmax(y_, 1))\n",
    "    accuracy = tf.reduce_mean(tf.cast(correct_prediction, \"float\"))\n",
    "    result = accuracy.eval(feed_dict={x: mnist.test.images, y_: mnist.test.labels, keep_prob: 1.0})\n",
    "    \n",
    "    print(message+\" %g\\n\" %result)\n",
    "    return result"
   ]
  },
  {
   "cell_type": "code",
   "execution_count": 16,
   "metadata": {
    "collapsed": false
   },
   "outputs": [],
   "source": [
    "y_conv = dense_dnn_model(dense_w)"
   ]
  },
  {
   "cell_type": "code",
   "execution_count": 17,
   "metadata": {
    "collapsed": true
   },
   "outputs": [],
   "source": [
    "saver = tf.train.Saver()"
   ]
  },
  {
   "cell_type": "code",
   "execution_count": 18,
   "metadata": {
    "collapsed": true
   },
   "outputs": [],
   "source": [
    "cross_entropy = -tf.reduce_sum(y_*tf.log(tf.clip_by_value(y_conv,1e-10, 1.0)))\n",
    "train_step = tf.train.AdamOptimizer(1e-4).minimize(cross_entropy)\n",
    "correct_prediction = tf.equal(tf.argmax(y_conv,1), tf.argmax(y_,1))\n",
    "accuracy = tf.reduce_mean(tf.cast(correct_prediction, \"float\"))\n",
    "sess.run(tf.initialize_all_variables())"
   ]
  },
  {
   "cell_type": "code",
   "execution_count": 35,
   "metadata": {
    "collapsed": false,
    "scrolled": false
   },
   "outputs": [
    {
     "name": "stdout",
     "output_type": "stream",
     "text": [
      "step 0, training accuracy 0.92\n",
      "step 500, training accuracy 0.92\n",
      "step 1000, training accuracy 0.92\n",
      "step 1500, training accuracy 0.9\n",
      "step 2000, training accuracy 0.9\n",
      "step 2500, training accuracy 0.88\n",
      "step 3000, training accuracy 0.94\n",
      "step 3500, training accuracy 0.88\n",
      "step 4000, training accuracy 0.94\n",
      "step 4500, training accuracy 0.94\n",
      "step 5000, training accuracy 0.94\n",
      "step 5500, training accuracy 0.88\n",
      "step 6000, training accuracy 0.92\n",
      "step 6500, training accuracy 0.96\n",
      "step 7000, training accuracy 0.96\n",
      "step 7500, training accuracy 0.94\n",
      "step 8000, training accuracy 0.92\n",
      "step 8500, training accuracy 0.92\n",
      "step 9000, training accuracy 0.84\n",
      "step 9500, training accuracy 0.96\n",
      "step 10000, training accuracy 0.92\n",
      "step 10500, training accuracy 0.92\n",
      "step 11000, training accuracy 0.92\n",
      "step 11500, training accuracy 0.9\n",
      "step 12000, training accuracy 0.94\n",
      "step 12500, training accuracy 0.92\n",
      "step 13000, training accuracy 0.94\n",
      "step 13500, training accuracy 0.92\n",
      "step 14000, training accuracy 0.9\n",
      "step 14500, training accuracy 0.94\n",
      "step 15000, training accuracy 0.9\n",
      "step 15500, training accuracy 0.9\n",
      "step 16000, training accuracy 0.9\n",
      "step 16500, training accuracy 0.96\n",
      "step 17000, training accuracy 0.9\n",
      "step 17500, training accuracy 0.86\n",
      "step 18000, training accuracy 0.96\n",
      "step 18500, training accuracy 0.84\n",
      "step 19000, training accuracy 0.98\n",
      "step 19500, training accuracy 0.96\n",
      "step 20000, training accuracy 0.9\n",
      "step 20500, training accuracy 0.92\n",
      "step 21000, training accuracy 0.9\n",
      "step 21500, training accuracy 0.94\n",
      "step 22000, training accuracy 0.92\n",
      "step 22500, training accuracy 1\n",
      "step 23000, training accuracy 0.94\n",
      "step 23500, training accuracy 0.94\n",
      "step 24000, training accuracy 0.92\n",
      "step 24500, training accuracy 0.92\n",
      "step 25000, training accuracy 0.94\n",
      "step 25500, training accuracy 0.92\n",
      "step 26000, training accuracy 0.88\n",
      "step 26500, training accuracy 0.94\n",
      "step 27000, training accuracy 0.88\n",
      "step 27500, training accuracy 0.98\n",
      "step 28000, training accuracy 0.9\n",
      "step 28500, training accuracy 0.96\n",
      "step 29000, training accuracy 0.92\n",
      "step 29500, training accuracy 0.96\n",
      "step 30000, training accuracy 0.94\n",
      "step 30500, training accuracy 0.92\n",
      "step 31000, training accuracy 0.94\n",
      "step 31500, training accuracy 0.96\n",
      "step 32000, training accuracy 0.96\n",
      "step 32500, training accuracy 0.94\n",
      "step 33000, training accuracy 0.96\n",
      "step 33500, training accuracy 0.98\n",
      "step 34000, training accuracy 0.98\n",
      "step 34500, training accuracy 0.96\n",
      "step 35000, training accuracy 0.82\n",
      "step 35500, training accuracy 0.96\n",
      "step 36000, training accuracy 0.9\n",
      "step 36500, training accuracy 0.92\n",
      "step 37000, training accuracy 0.92\n",
      "step 37500, training accuracy 1\n",
      "step 38000, training accuracy 0.96\n",
      "step 38500, training accuracy 0.96\n",
      "step 39000, training accuracy 0.94\n",
      "step 39500, training accuracy 0.96\n",
      "step 40000, training accuracy 0.94\n",
      "step 40500, training accuracy 0.94\n",
      "step 41000, training accuracy 0.96\n",
      "step 41500, training accuracy 0.94\n",
      "step 42000, training accuracy 0.92\n",
      "step 42500, training accuracy 1\n",
      "step 43000, training accuracy 0.96\n",
      "step 43500, training accuracy 0.94\n",
      "step 44000, training accuracy 0.9\n",
      "step 44500, training accuracy 0.88\n",
      "step 45000, training accuracy 0.92\n",
      "step 45500, training accuracy 0.92\n",
      "step 46000, training accuracy 0.92\n",
      "step 46500, training accuracy 0.94\n",
      "step 47000, training accuracy 0.86\n",
      "step 47500, training accuracy 0.94\n",
      "step 48000, training accuracy 0.88\n",
      "step 48500, training accuracy 0.92\n",
      "step 49000, training accuracy 0.92\n",
      "step 49500, training accuracy 0.92\n",
      "training test accuracy 0.9341\n",
      "\n"
     ]
    },
    {
     "data": {
      "text/plain": [
       "0.93410009"
      ]
     },
     "execution_count": 35,
     "metadata": {},
     "output_type": "execute_result"
    }
   ],
   "source": [
    "for i in range(50000):\n",
    "    batch = mnist.train.next_batch(50)\n",
    "    if i%500 == 0:\n",
    "        train_accuracy = accuracy.eval(feed_dict={\n",
    "                x:batch[0], y_: batch[1], keep_prob: 1.0})\n",
    "        print(\"step %d, training accuracy %g\"%(i, train_accuracy))\n",
    "        train_step.run(feed_dict={x: batch[0], y_: batch[1], keep_prob: 0.5})\n",
    "\n",
    "score = test(y_conv, message=\"training test accuracy\")\n",
    "score"
   ]
  },
  {
   "cell_type": "code",
   "execution_count": 36,
   "metadata": {
    "collapsed": false
   },
   "outputs": [
    {
     "data": {
      "text/plain": [
       "'./model_ckpt_dense'"
      ]
     },
     "execution_count": 36,
     "metadata": {},
     "output_type": "execute_result"
    }
   ],
   "source": [
    "saver.save(sess, \"./model_ckpt_dense\", write_meta_graph=False)"
   ]
  },
  {
   "cell_type": "code",
   "execution_count": null,
   "metadata": {
    "collapsed": true
   },
   "outputs": [],
   "source": []
  }
 ],
 "metadata": {
  "kernelspec": {
   "display_name": "Python 2",
   "language": "python",
   "name": "python2"
  },
  "language_info": {
   "codemirror_mode": {
    "name": "ipython",
    "version": 2
   },
   "file_extension": ".py",
   "mimetype": "text/x-python",
   "name": "python",
   "nbconvert_exporter": "python",
   "pygments_lexer": "ipython2",
   "version": "2.7.6"
  }
 },
 "nbformat": 4,
 "nbformat_minor": 0
}

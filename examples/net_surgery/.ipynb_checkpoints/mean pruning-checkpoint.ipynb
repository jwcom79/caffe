{
 "cells": [
  {
   "cell_type": "code",
   "execution_count": null,
   "metadata": {
    "collapsed": true
   },
   "outputs": [],
   "source": [
    "import os\n",
    "import numpy as np\n",
    "caffe_root = '/home/flathead/bitbucket/mycaffe/'\n",
    "os.chdir('../../')\n",
    "import sys\n",
    "sys.path.insert(0, 'python')\n",
    "import caffe"
   ]
  },
  {
   "cell_type": "code",
   "execution_count": null,
   "metadata": {
    "collapsed": true
   },
   "outputs": [],
   "source": [
    "from pylab import *\n",
    "%matplotlib inline"
   ]
  },
  {
   "cell_type": "code",
   "execution_count": null,
   "metadata": {
    "collapsed": true
   },
   "outputs": [],
   "source": [
    "import matplotlib.pyplot as plt\n",
    "from numpy.random import normal"
   ]
  },
  {
   "cell_type": "code",
   "execution_count": null,
   "metadata": {
    "collapsed": true
   },
   "outputs": [],
   "source": [
    "caffe.set_mode_gpu()\n",
    "caffe.set_device(0)"
   ]
  },
  {
   "cell_type": "code",
   "execution_count": null,
   "metadata": {
    "collapsed": true
   },
   "outputs": [],
   "source": [
    "solver = None  # ignore this workaround for lmdb data (can't instantiate two solvers on the same data)\n",
    "solver = caffe.SGDSolver('examples/mlp/mlp_solver.prototxt')"
   ]
  },
  {
   "cell_type": "code",
   "execution_count": null,
   "metadata": {
    "collapsed": true
   },
   "outputs": [],
   "source": [
    "net1 = solver.net\n",
    "test_net = solver.test_nets[0]"
   ]
  },
  {
   "cell_type": "code",
   "execution_count": null,
   "metadata": {
    "collapsed": true
   },
   "outputs": [],
   "source": [
    "# during training, each output is (batch size, feature dim, spatial dim)\n",
    "[(k, v.data.shape) for k, v in net1.blobs.items()]"
   ]
  },
  {
   "cell_type": "code",
   "execution_count": null,
   "metadata": {
    "collapsed": true
   },
   "outputs": [],
   "source": [
    "# just print the weight sizes (we'll omit the biases)\n",
    "[(k, v[0].data.shape) for k, v in net1.params.items()]"
   ]
  },
  {
   "cell_type": "code",
   "execution_count": null,
   "metadata": {
    "collapsed": true
   },
   "outputs": [],
   "source": [
    "test_net.forward()"
   ]
  },
  {
   "cell_type": "code",
   "execution_count": null,
   "metadata": {
    "collapsed": true
   },
   "outputs": [],
   "source": [
    "%%time\n",
    "niter = 5000\n",
    "test_interval = 200\n",
    "train_loss = zeros(niter)\n",
    "test_acc = zeros(int(np.ceil(niter / test_interval)))\n",
    "output = zeros((niter, 8, 10))\n",
    "\n",
    "for it in range(niter):\n",
    "    solver.step(1)\n",
    "    #net1.forward()\n",
    "    \n",
    "    train_loss[it] = net1.blobs['loss'].data\n",
    "    \n",
    "    net1.forward(start='ip1')\n",
    "    output[it] = test_net.blobs['ip3'].data[:8]\n",
    "    \n",
    "    if it % test_interval == 0:\n",
    "        print 'iteration', it, 'testing...'\n",
    "        correct = 0\n",
    "        for test_it in range(100):\n",
    "            test_net.forward()\n",
    "            correct += sum(test_net.blobs['ip3'].data.argmax(1) == test_net.blobs['label'].data)\n",
    "        test_acc[it // test_interval] = correct / 1e4"
   ]
  },
  {
   "cell_type": "code",
   "execution_count": null,
   "metadata": {
    "collapsed": true
   },
   "outputs": [],
   "source": [
    "_, ax1 = subplots()\n",
    "ax2 = ax1.twinx()\n",
    "ax1.plot(arange(niter), train_loss)\n",
    "ax2.plot(test_interval * arange(len(test_acc)), test_acc, 'r')\n",
    "ax1.set_xlabel('iteration')\n",
    "ax1.set_ylabel('train loss')\n",
    "ax2.set_ylabel('test accuracy')\n",
    "ax2.set_title('Test Accuracy: {:.4f}'.format(test_acc[-1]))"
   ]
  },
  {
   "cell_type": "code",
   "execution_count": null,
   "metadata": {
    "collapsed": true
   },
   "outputs": [],
   "source": [
    "#Neurons of Layer 1\n",
    "mean_feat1 = [0] * 20\n",
    "std_feat1 = [0] * 20\n",
    "posm_feat1 = [0] * 20\n",
    "negm_feat1 = [0] * 20\n",
    "poss_feat1 = [0] * 20\n",
    "negs_feat1 = [0] * 20\n",
    "\n",
    "for j in range(20):\n",
    "    mean_feat1[j] = feat1[j].mean()\n",
    "    std_feat1[j] = feat1[j].std()\n",
    "    posm_feat1[j] = feat1[j][feat1[j] > 0].mean()\n",
    "    negm_feat1[j] = feat1[j][feat1[j] < 0].mean()\n",
    "    poss_feat1[j] = feat1[j][feat1[j] > 0].std()\n",
    "    negs_feat1[j] = feat1[j][feat1[j] < 0].std()\n",
    "    \n",
    "#Neurons of Layer 2\n",
    "mean_feat2 = [0] * 50\n",
    "std_feat2 = [0] * 50\n",
    "posm_feat2 = [0] * 50\n",
    "negm_feat2 = [0] * 50\n",
    "poss_feat2 = [0] * 50\n",
    "negs_feat2 = [0] * 50\n",
    "\n",
    "for j in range(50):\n",
    "    mean_feat2[j] = feat2[j].mean()\n",
    "    std_feat2[j] = feat2[j].std()\n",
    "    posm_feat2[j] = feat2[j][feat2[j] > 0].mean()\n",
    "    negm_feat2[j] = feat2[j][feat2[j] < 0].mean()\n",
    "    poss_feat2[j] = feat2[j][feat2[j] > 0].std()\n",
    "    negs_feat2[j] = feat2[j][feat2[j] < 0].std()"
   ]
  },
  {
   "cell_type": "code",
   "execution_count": null,
   "metadata": {
    "collapsed": true
   },
   "outputs": [],
   "source": [
    "for x in range(20):\n",
    "    for y in range(784):\n",
    "        if ((net1.params['ip1'][0].data[x,y] <= (posm_feat1[x] + (0.5 * poss_feat1[x]))) & (feat1[x,y] >= (posm_feat1[x] - (0.5 * poss_feat1[x])))):\n",
    "            net1.params['ip1'][0].data[x,y] = posm_feat1[x]\n",
    "        if ((net1.params['ip1'][0].data[x,y] <= (negm_feat1[x] + (0.5 * negs_feat1[x]))) & (feat1[x,y] >= (negm_feat1[x] - (0.5 * negs_feat1[x])))):\n",
    "            net1.params['ip1'][0].data[x,y] = negm_feat1[x]\n",
    "        if (net1.params['ip1'][0].data[x,y] >= (mean_feat1[x] - 0.5 * std_feat1[x])) & (net1.params['ip1'][0].data[x,y] <= (mean_feat1[x] + 0.5 * std_feat1[x])):\n",
    "            net1.params['ip1'][0].data[x,y] = 0\n",
    "            \n",
    "for x in range(50):\n",
    "    for y in range(20):\n",
    "        if ((net1.params['ip2'][0].data[x,y] <= (posm_feat2[x] + (0.3 * poss_feat2[x]))) & (feat2[x,y] >= (posm_feat2[x] - (0.3 * poss_feat2[x])))):\n",
    "            net1.params['ip2'][0].data[x,y] = posm_feat2[x]\n",
    "        if ((net1.params['ip2'][0].data[x,y] <= (negm_feat2[x] + (0.3 * negs_feat2[x]))) & (feat2[x,y] >= (negm_feat2[x] - (0.3 * negs_feat2[x])))):\n",
    "            net1.params['ip2'][0].data[x,y] = negm_feat2[x]\n",
    "        if (net1.params['ip2'][0].data[x,y] >= (mean_feat2[x] - 0.5 * std_feat2[x])) & (net1.params['ip2'][0].data[x,y] <= (mean_feat2[x] + 0.5 * std_feat2[x])):\n",
    "            net1.params['ip2'][0].data[x,y] = 0"
   ]
  },
  {
   "cell_type": "code",
   "execution_count": null,
   "metadata": {
    "collapsed": true
   },
   "outputs": [],
   "source": [
    "test_net.forward()"
   ]
  },
  {
   "cell_type": "code",
   "execution_count": null,
   "metadata": {
    "collapsed": true
   },
   "outputs": [],
   "source": []
  }
 ],
 "metadata": {
  "kernelspec": {
   "display_name": "Python 2",
   "language": "python",
   "name": "python2"
  },
  "language_info": {
   "codemirror_mode": {
    "name": "ipython",
    "version": 2
   },
   "file_extension": ".py",
   "mimetype": "text/x-python",
   "name": "python",
   "nbconvert_exporter": "python",
   "pygments_lexer": "ipython2",
   "version": "2.7.6"
  }
 },
 "nbformat": 4,
 "nbformat_minor": 0
}

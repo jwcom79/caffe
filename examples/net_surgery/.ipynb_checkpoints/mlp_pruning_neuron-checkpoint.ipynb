{
 "cells": [
  {
   "cell_type": "code",
   "execution_count": 1,
   "metadata": {
    "collapsed": false
   },
   "outputs": [],
   "source": [
    "import os\n",
    "import numpy as np\n",
    "caffe_root = '/home/flathead/bitbucket/mycaffe/'\n",
    "os.chdir('../../')\n",
    "import sys\n",
    "sys.path.insert(0, 'python')\n",
    "import caffe"
   ]
  },
  {
   "cell_type": "code",
   "execution_count": 2,
   "metadata": {
    "collapsed": true
   },
   "outputs": [],
   "source": [
    "from pylab import *\n",
    "%matplotlib inline"
   ]
  },
  {
   "cell_type": "code",
   "execution_count": 3,
   "metadata": {
    "collapsed": true
   },
   "outputs": [],
   "source": [
    "import matplotlib.pyplot as plt\n",
    "from numpy.random import normal"
   ]
  },
  {
   "cell_type": "code",
   "execution_count": 4,
   "metadata": {
    "collapsed": true
   },
   "outputs": [],
   "source": [
    "caffe.set_mode_gpu()\n",
    "caffe.set_device(0)"
   ]
  },
  {
   "cell_type": "code",
   "execution_count": 5,
   "metadata": {
    "collapsed": false
   },
   "outputs": [],
   "source": [
    "net1 = caffe.Net('examples/mlp/mlp_train_test.prototxt',\n",
    "                'examples/mlp/mlp_test_iter_300000.caffemodel', \n",
    "                 caffe.TEST)"
   ]
  },
  {
   "cell_type": "code",
   "execution_count": 6,
   "metadata": {
    "collapsed": false
   },
   "outputs": [],
   "source": [
    "feat1 = net1.params['ip1'][0].data\n",
    "feat2 = net1.params['ip2'][0].data\n",
    "feat3 = net1.params['ip3'][0].data\n",
    "feat4 = net1.params['ip4'][0].data"
   ]
  },
  {
   "cell_type": "code",
   "execution_count": 7,
   "metadata": {
    "collapsed": false,
    "scrolled": false
   },
   "outputs": [],
   "source": [
    "l1 = 500\n",
    "l2 = 500\n",
    "l3 = 2000\n",
    "l4 = 10"
   ]
  },
  {
   "cell_type": "code",
   "execution_count": 9,
   "metadata": {
    "collapsed": false
   },
   "outputs": [
    {
     "data": {
      "text/plain": [
       "'\\nplt.subplot(4,1,4)\\nplt.hist(feat4.flat, bins = 2000)\\nplt.title(\"Last layer\")\\n'"
      ]
     },
     "execution_count": 9,
     "metadata": {},
     "output_type": "execute_result"
    },
    {
     "data": {
      "image/png": "[encoded data removed]",
      "text/plain": [
       "<matplotlib.figure.Figure at 0x7f87ae3a3650>"
      ]
     },
     "metadata": {},
     "output_type": "display_data"
    }
   ],
   "source": [
    "plt.figure(figsize=(15, 15))\n",
    "\n",
    "plt.subplot(4,1,1)\n",
    "plt.hist(feat1.flat, bins = 784)\n",
    "plt.title(\"Input layer\")\n",
    "\n",
    "plt.subplot(4,1,2)\n",
    "plt.hist(feat2.flat, bins = 500)\n",
    "plt.title(\"1'st layer\")\n",
    "\n",
    "plt.subplot(4,1,3)\n",
    "plt.hist(feat3.flat, bins = 500)\n",
    "plt.title(\"2'nd layer\")\n",
    "\n",
    "plt.subplot(4,1,4)\n",
    "plt.hist(feat4.flat, bins = 2000)\n",
    "plt.title(\"Last layer\")"
   ]
  },
  {
   "cell_type": "code",
   "execution_count": 10,
   "metadata": {
    "collapsed": false
   },
   "outputs": [],
   "source": [
    "#Neurons of Layer 1\n",
    "mean_feat1 = zeros(l1)\n",
    "std_feat1 = zeros(l1)\n",
    "\n",
    "for j in range(l1):\n",
    "    mean_feat1[j] = feat1[j].mean()\n",
    "    std_feat1[j] = feat1[j].std()\n",
    "    \n",
    "#Neurons of Layer 2\n",
    "mean_feat2 = zeros(l2)\n",
    "std_feat2 = zeros(l2)\n",
    "\n",
    "for j in range(l2):\n",
    "    mean_feat2[j] = feat2[j].mean()\n",
    "    std_feat2[j] = feat2[j].std()\n",
    "    \n",
    "#Neurons of Layer 3\n",
    "mean_feat3 = zeros(l3)\n",
    "std_feat3 = zeros(l3)\n",
    "\n",
    "for j in range(l3):\n",
    "    mean_feat3[j] = feat3[j].mean()\n",
    "    std_feat3[j] = feat3[j].std()\n",
    "    \n",
    "#Neurons of Layer 4\n",
    "mean_feat4 = zeros(l4)\n",
    "std_feat4 = zeros(l4)\n",
    "\n",
    "for j in range(l4):\n",
    "    mean_feat4[j] = feat4[j].mean()\n",
    "    std_feat4[j] = feat4[j].std()"
   ]
  },
  {
   "cell_type": "code",
   "execution_count": 11,
   "metadata": {
    "collapsed": false
   },
   "outputs": [],
   "source": [
    "\n",
    "#Neurons of Layer 1\n",
    "posm_feat1 = zeros(l1)\n",
    "negm_feat1 = zeros(l1)\n",
    "poss_feat1 = zeros(l1)\n",
    "negs_feat1 = zeros(l1)\n",
    "\n",
    "for j in range(l1):\n",
    "    posm_feat1[j] = feat1[j][feat1[j] > 0].mean()\n",
    "    negm_feat1[j] = feat1[j][feat1[j] < 0].mean()\n",
    "    poss_feat1[j] = feat1[j][feat1[j] > 0].std()\n",
    "    negs_feat1[j] = feat1[j][feat1[j] < 0].std()\n",
    "    \n",
    "#Neurons of Layer 2\n",
    "posm_feat2 = zeros(l2)\n",
    "negm_feat2 = zeros(l2)\n",
    "poss_feat2 = zeros(l2)\n",
    "negs_feat2 = zeros(l2)\n",
    "\n",
    "for j in range(l2):\n",
    "    posm_feat2[j] = feat2[j][feat2[j] > 0].mean()\n",
    "    negm_feat2[j] = feat2[j][feat2[j] < 0].mean()\n",
    "    poss_feat2[j] = feat2[j][feat2[j] > 0].std()\n",
    "    negs_feat2[j] = feat2[j][feat2[j] < 0].std()\n",
    "\n",
    "#'''\n",
    "#Neurons of Layer 3\n",
    "posm_feat3 = zeros(l3)\n",
    "negm_feat3 = zeros(l3)\n",
    "poss_feat3 = zeros(l3)\n",
    "negs_feat3 = zeros(l3)\n",
    "\n",
    "for j in range(l3):\n",
    "    posm_feat3[j] = feat3[j][feat3[j] > 0].mean()\n",
    "    negm_feat3[j] = feat3[j][feat3[j] < 0].mean()\n",
    "    poss_feat3[j] = feat3[j][feat3[j] > 0].std()\n",
    "    negs_feat3[j] = feat3[j][feat3[j] < 0].std()\n",
    "#'''\n",
    "#Neurons of Layer 4\n",
    "posm_feat4 = zeros(l4)\n",
    "negm_feat4 = zeros(l4)\n",
    "poss_feat4 = zeros(l4)\n",
    "negs_feat4 = zeros(l4)\n",
    "\n",
    "for j in range(l4):\n",
    "    posm_feat4[j] = feat4[j][feat4[j] > 0].mean()\n",
    "    negm_feat4[j] = feat4[j][feat4[j] < 0].mean()\n",
    "    poss_feat4[j] = feat4[j][feat4[j] > 0].std()\n",
    "    negs_feat4[j] = feat4[j][feat4[j] < 0].std()\n",
    "#'''"
   ]
  },
  {
   "cell_type": "code",
   "execution_count": 12,
   "metadata": {
    "collapsed": false
   },
   "outputs": [],
   "source": [
    "# rate * std range zero pruning\n",
    "rate = 0.8\n",
    "\n",
    "for x in range(l1):\n",
    "    for y in range(784):\n",
    "        #if ((feat1[x,y] >= -a2[x]) & (feat1[x,y] <= a1[x])):\n",
    "        if ((feat1[x,y] >= -std_feat1[x] * rate) & (feat1[x,y] <= rate * std_feat1[x])):\n",
    "            feat1[x,y] = 0\n",
    "            \n",
    "for x in range(l2):\n",
    "    for y in range(l1):\n",
    "        #if (feat2[x,y] >= -b2[x]) & (feat2[x,y] <= b1[x]):\n",
    "        if ((feat2[x,y] >= -std_feat2[x] * rate) & (feat2[x,y] <= rate * std_feat2[x])):\n",
    "            feat2[x,y] = 0\n",
    "            \n",
    "for x in range(l3):\n",
    "    for y in range(l2):\n",
    "        #if (feat3[x,y] >= -c2[x]) & (feat3[x,y] <= c1[x]):\n",
    "        if ((feat3[x,y] >= -std_feat3[x] * rate) & (feat3[x,y] <= rate * std_feat3[x])):\n",
    "            feat3[x,y] = 0\n",
    "            \n",
    "for x in range(l4):\n",
    "    for y in range(l3):\n",
    "        #if (feat4[x,y] >= -d2[x]) & (feat4[x,y] <= d1[x]):\n",
    "        if ((feat4[x,y] >= -std_feat4[x] * rate) & (feat4[x,y] <= rate * std_feat4[x])):\n",
    "            feat4[x,y] = 0"
   ]
  },
  {
   "cell_type": "code",
   "execution_count": null,
   "metadata": {
    "collapsed": true
   },
   "outputs": [],
   "source": [
    "net1.save('examples/mlp/zeropr/pruned.caffemodel')"
   ]
  },
  {
   "cell_type": "code",
   "execution_count": 13,
   "metadata": {
    "collapsed": false
   },
   "outputs": [
    {
     "name": "stdout",
     "output_type": "stream",
     "text": [
      "(0.48828061224489794, 0.47830800000000001, 0.46467199999999997, 0.63819999999999999)\n",
      "0.474379663057\n"
     ]
    }
   ],
   "source": [
    "ratio = zeros(4)\n",
    "\n",
    "for x in range(l1):\n",
    "    ratio[0] += (feat1[x] ==  0).sum()\n",
    "\n",
    "for x in range(l2):\n",
    "    ratio[1] += (feat2[x] ==  0).sum()\n",
    "    \n",
    "for x in range(l3):\n",
    "    ratio[2] += (feat3[x] ==  0).sum()\n",
    "    \n",
    "for x in range(l4):\n",
    "    ratio[3] += (feat4[x] ==  0).sum()\n",
    "\n",
    "print (ratio[0] / (784 * l1), ratio[1] / (l2 * l1), ratio[2] / (l3 * l2), ratio[3] / (l4 * l3))\n",
    "print ((ratio[0] + ratio[1] + ratio[2] + ratio[3]) / (784 * l1 + l1 * l2 + l2 * l3 + l3 * l4))"
   ]
  },
  {
   "cell_type": "code",
   "execution_count": 14,
   "metadata": {
    "collapsed": false
   },
   "outputs": [
    {
     "data": {
      "text/plain": [
       "'plt.title(\"2\\'nd layer\")\\n\\nplt.subplot(4,1,4)\\nplt.hist(feat4[feat4 != 0].flat, bins = 2000)\\nplt.title(\"Last layer\")'"
      ]
     },
     "execution_count": 14,
     "metadata": {},
     "output_type": "execute_result"
    },
    {
     "data": {
      "image/png": "[encoded data removed]",
      "text/plain": [
       "<matplotlib.figure.Figure at 0x7f87ae23b710>"
      ]
     },
     "metadata": {},
     "output_type": "display_data"
    }
   ],
   "source": [
    "plt.figure(figsize=(15, 15))\n",
    "\n",
    "plt.subplot(4,1,1)\n",
    "plt.hist(feat1[feat1 != 0].flat, bins = 784)\n",
    "plt.title(\"Input layer\")\n",
    "\n",
    "plt.subplot(4,1,2)\n",
    "plt.hist(feat2[feat2 != 0].flat, bins = 500)\n",
    "plt.title(\"1'st layer\")\n",
    "\n",
    "plt.subplot(4,1,3)\n",
    "plt.hist(feat3[feat3 != 0].flat, bins = 500)\n",
    "plt.title(\"2'nd layer\")\n",
    "\n",
    "plt.subplot(4,1,4)\n",
    "plt.hist(feat4[feat4 != 0].flat, bins = 2000)\n",
    "plt.title(\"Last layer\")"
   ]
  },
  {
   "cell_type": "code",
   "execution_count": null,
   "metadata": {
    "collapsed": true
   },
   "outputs": [],
   "source": [
    "# Retraining is required Here!"
   ]
  },
  {
   "cell_type": "code",
   "execution_count": 15,
   "metadata": {
    "collapsed": false
   },
   "outputs": [],
   "source": [
    "#'''\n",
    "#Neurons of Layer 1\n",
    "posm_feat1 = [0] * l1\n",
    "negm_feat1 = [0] * l1\n",
    "poss_feat1 = [0] * l1\n",
    "negs_feat1 = [0] * l1\n",
    "\n",
    "for j in range(l1):\n",
    "    posm_feat1[j] = feat1[j][feat1[j] > 0].mean()\n",
    "    negm_feat1[j] = feat1[j][feat1[j] < 0].mean()\n",
    "    poss_feat1[j] = feat1[j][feat1[j] > 0].std()\n",
    "    negs_feat1[j] = feat1[j][feat1[j] < 0].std()\n",
    "#''' \n",
    "#Neurons of Layer 2\n",
    "posm_feat2 = [0] * l2\n",
    "negm_feat2 = [0] * l2\n",
    "poss_feat2 = [0] * l2\n",
    "negs_feat2 = [0] * l2\n",
    "\n",
    "for j in range(l2):\n",
    "    posm_feat2[j] = feat2[j][feat2[j] > 0].mean()\n",
    "    negm_feat2[j] = feat2[j][feat2[j] < 0].mean()\n",
    "    poss_feat2[j] = feat2[j][feat2[j] > 0].std()\n",
    "    negs_feat2[j] = feat2[j][feat2[j] < 0].std()\n",
    "\n",
    "#'''\n",
    "#Neurons of Layer 3\n",
    "posm_feat3 = [0] * l3\n",
    "negm_feat3 = [0] * l3\n",
    "poss_feat3 = [0] * l3\n",
    "negs_feat3 = [0] * l3\n",
    "\n",
    "for j in range(l3):\n",
    "    posm_feat3[j] = feat3[j][feat3[j] > 0].mean()\n",
    "    negm_feat3[j] = feat3[j][feat3[j] < 0].mean()\n",
    "    poss_feat3[j] = feat3[j][feat3[j] > 0].std()\n",
    "    negs_feat3[j] = feat3[j][feat3[j] < 0].std()\n",
    "#'''\n",
    "#Neurons of Layer 4\n",
    "posm_feat4 = [0] * l4\n",
    "negm_feat4 = [0] * l4\n",
    "poss_feat4 = [0] * l4\n",
    "negs_feat4 = [0] * l4\n",
    "\n",
    "for j in range(l4):\n",
    "    posm_feat4[j] = feat4[j][feat4[j] > 0].mean()\n",
    "    negm_feat4[j] = feat4[j][feat4[j] < 0].mean()\n",
    "    poss_feat4[j] = feat4[j][feat4[j] > 0].std()\n",
    "    negs_feat4[j] = feat4[j][feat4[j] < 0].std()\n",
    "#'''"
   ]
  },
  {
   "cell_type": "code",
   "execution_count": 16,
   "metadata": {
    "collapsed": false
   },
   "outputs": [],
   "source": [
    "# Mean value Quantization\n",
    "\n",
    "for x in range(l1):\n",
    "    for y in range(784):\n",
    "        if (feat1[x, y] > 0):\n",
    "            feat1[x,y] = posm_feat1[x]\n",
    "        if (feat1[x, y] < 0):\n",
    "            feat1[x,y] = negm_feat1[x]\n",
    "#'''         \n",
    "for x in range(l2):\n",
    "    for y in range(l1):\n",
    "        if (feat2[x, y] > 0):\n",
    "            feat2[x,y] = posm_feat2[x]\n",
    "        if (feat2[x, y] < 0):\n",
    "            feat2[x,y] = negm_feat2[x]\n",
    "\n",
    "#'''\n",
    "for x in range(l3):\n",
    "    for y in range(l2):\n",
    "        if (feat3[x, y] > 0):\n",
    "            feat3[x,y] = posm_feat3[x]\n",
    "        if (feat3[x, y] < 0):\n",
    "            feat3[x,y] = negm_feat3[x]\n",
    "#'''            \n",
    "for x in range(l4):\n",
    "    for y in range(l3):\n",
    "        if (feat4[x, y] > 0):\n",
    "            feat4[x,y] = posm_feat4[x]\n",
    "        if (feat4[x, y] < 0):\n",
    "            feat4[x,y] = negm_feat4[x]\n",
    "#'''"
   ]
  },
  {
   "cell_type": "code",
   "execution_count": null,
   "metadata": {
    "collapsed": false
   },
   "outputs": [],
   "source": [
    "net1.save('examples/mlp/zeropr/quantization.caffemodel')"
   ]
  },
  {
   "cell_type": "code",
   "execution_count": 18,
   "metadata": {
    "collapsed": false
   },
   "outputs": [],
   "source": [
    "# same abolute values of posm and negm\n",
    "#'''\n",
    "for x in range(l1):\n",
    "    for y in range(784):\n",
    "        if (feat1[x, y] > 0):\n",
    "            feat1[x,y] = (posm_feat1[x] - negm_feat1[x]) / 2\n",
    "        if (feat1[x, y] < 0):\n",
    "            feat1[x,y] = (negm_feat1[x] - posm_feat1[x]) / 2\n",
    "#'''            \n",
    "for x in range(l2):\n",
    "    for y in range(l1):\n",
    "        if (feat2[x, y] > 0):\n",
    "            feat2[x,y] = (posm_feat2[x] - negm_feat2[x]) / 2\n",
    "        if (feat2[x, y] < 0):\n",
    "            feat2[x,y] = (negm_feat2[x] - posm_feat2[x]) / 2\n",
    "#'''           \n",
    "for x in range(l3):\n",
    "    for y in range(l2):\n",
    "        if (feat3[x, y] > 0):\n",
    "            feat3[x,y] = (posm_feat3[x] - negm_feat3[x]) / 2\n",
    "        if (feat3[x, y] < 0):\n",
    "            feat3[x,y] = (negm_feat3[x] - posm_feat3[x]) / 2\n",
    "#'''            \n",
    "for x in range(l4):\n",
    "    for y in range(l3):\n",
    "        if (feat4[x, y] > 0):\n",
    "            feat4[x,y] = (posm_feat4[x] - negm_feat4[x]) / 2\n",
    "        if (feat4[x, y] < 0):\n",
    "            feat4[x,y] = (negm_feat4[x] - posm_feat4[x]) / 2\n",
    "#'''"
   ]
  },
  {
   "cell_type": "code",
   "execution_count": null,
   "metadata": {
    "collapsed": true
   },
   "outputs": [],
   "source": [
    "net1.save('examples/mlp/zeropr/sameabs.caffemodel')"
   ]
  },
  {
   "cell_type": "code",
   "execution_count": null,
   "metadata": {
    "collapsed": true
   },
   "outputs": [],
   "source": []
  }
 ],
 "metadata": {
  "kernelspec": {
   "display_name": "Python 2",
   "language": "python",
   "name": "python2"
  },
  "language_info": {
   "codemirror_mode": {
    "name": "ipython",
    "version": 2
   },
   "file_extension": ".py",
   "mimetype": "text/x-python",
   "name": "python",
   "nbconvert_exporter": "python",
   "pygments_lexer": "ipython2",
   "version": "2.7.6"
  }
 },
 "nbformat": 4,
 "nbformat_minor": 0
}

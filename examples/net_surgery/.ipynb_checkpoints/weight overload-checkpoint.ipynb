{
 "cells": [
  {
   "cell_type": "code",
   "execution_count": 1,
   "metadata": {
    "collapsed": true
   },
   "outputs": [],
   "source": [
    "import os\n",
    "os.chdir('../../')\n",
    "import sys\n",
    "sys.path.insert(0, './python')"
   ]
  },
  {
   "cell_type": "code",
   "execution_count": 2,
   "metadata": {
    "collapsed": true
   },
   "outputs": [],
   "source": [
    "import caffe"
   ]
  },
  {
   "cell_type": "code",
   "execution_count": 3,
   "metadata": {
    "collapsed": true
   },
   "outputs": [],
   "source": [
    "from pylab import *\n",
    "%matplotlib inline"
   ]
  },
  {
   "cell_type": "code",
   "execution_count": 4,
   "metadata": {
    "collapsed": true
   },
   "outputs": [],
   "source": [
    "caffe.set_device(0)\n",
    "caffe.set_mode_gpu()"
   ]
  },
  {
   "cell_type": "code",
   "execution_count": 5,
   "metadata": {
    "collapsed": true
   },
   "outputs": [],
   "source": [
    "solver = caffe.SGDSolver('examples/mlp/mlp_solver.prototxt')"
   ]
  },
  {
   "cell_type": "code",
   "execution_count": 6,
   "metadata": {
    "collapsed": false
   },
   "outputs": [
    {
     "data": {
      "text/plain": [
       "[('data', (100, 1, 28, 28)),\n",
       " ('label', (100,)),\n",
       " ('ip1', (100, 20)),\n",
       " ('ip2', (100, 50)),\n",
       " ('ip3', (100, 10)),\n",
       " ('loss', ())]"
      ]
     },
     "execution_count": 6,
     "metadata": {},
     "output_type": "execute_result"
    }
   ],
   "source": [
    "[(k, v.data.shape) for k, v in solver.net.blobs.items()]"
   ]
  },
  {
   "cell_type": "code",
   "execution_count": 7,
   "metadata": {
    "collapsed": false
   },
   "outputs": [
    {
     "data": {
      "text/plain": [
       "[('ip1', (20, 784)), ('ip2', (50, 20)), ('ip3', (10, 50))]"
      ]
     },
     "execution_count": 7,
     "metadata": {},
     "output_type": "execute_result"
    }
   ],
   "source": [
    "[(k, v[0].data.shape) for k, v in solver.net.params.items()]"
   ]
  },
  {
   "cell_type": "code",
   "execution_count": 8,
   "metadata": {
    "collapsed": false
   },
   "outputs": [
    {
     "name": "stdout",
     "output_type": "stream",
     "text": [
      "iteration 0 testing...\n",
      "CPU times: user 4.6 s, sys: 781 ms, total: 5.38 s\n",
      "Wall time: 3.98 s\n"
     ]
    }
   ],
   "source": [
    "%%time\n",
    "niter = 500\n",
    "test_interval = 500\n",
    "train_loss = zeros(niter)\n",
    "test_acc = zeros(int(np.ceil(niter / test_interval)))\n",
    "output = zeros((niter, 8, 10))\n",
    "\n",
    "for it in range(niter):\n",
    "    solver.step(1)\n",
    "    \n",
    "    train_loss[it] = solver.net.blobs['loss'].data\n",
    "    \n",
    "    solver.test_nets[0].forward(start='ip1')\n",
    "    output[it] = solver.test_nets[0].blobs['ip3'].data[:8]\n",
    "    \n",
    "    if it % test_interval == 0:\n",
    "        print 'iteration', it, 'testing...'\n",
    "        correct = 0\n",
    "        for test_it in range(100):\n",
    "            solver.test_nets[0].forward()\n",
    "            correct += sum(solver.test_nets[0].blobs['ip3'].data.argmax(1) == solver.test_nets[0].blobs['label'].data)\n",
    "        test_acc[it // test_interval] = correct / 1e4"
   ]
  },
  {
   "cell_type": "code",
   "execution_count": 29,
   "metadata": {
    "collapsed": false
   },
   "outputs": [
    {
     "data": {
      "text/plain": [
       "{'accuracy': array(0.7200000286102295, dtype=float32),\n",
       " 'loss': array(1.1888549327850342, dtype=float32)}"
      ]
     },
     "execution_count": 29,
     "metadata": {},
     "output_type": "execute_result"
    }
   ],
   "source": [
    "solver.test_nets[0].forward()"
   ]
  },
  {
   "cell_type": "code",
   "execution_count": null,
   "metadata": {
    "collapsed": false
   },
   "outputs": [],
   "source": [
    "solver.test_nets[0].params['ip1'][0].data[10]"
   ]
  },
  {
   "cell_type": "code",
   "execution_count": null,
   "metadata": {
    "collapsed": false
   },
   "outputs": [],
   "source": [
    "solver.net.params['ip1'][0].data[10]"
   ]
  },
  {
   "cell_type": "code",
   "execution_count": null,
   "metadata": {
    "collapsed": false
   },
   "outputs": [],
   "source": [
    "_, ax1 = subplots()\n",
    "ax2 = ax1.twinx()\n",
    "ax1.plot(arange(niter), train_loss)\n",
    "ax2.plot(test_interval * arange(len(test_acc)), test_acc, 'r')\n",
    "ax1.set_xlabel('iteration')\n",
    "ax1.set_ylabel('train loss')\n",
    "ax2.set_ylabel('test accuracy')\n",
    "ax2.set_title('Test Accuracy: {:.4f}'.format(test_acc[-1]))"
   ]
  },
  {
   "cell_type": "code",
   "execution_count": 20,
   "metadata": {
    "collapsed": false
   },
   "outputs": [],
   "source": [
    "with open('examples/mlp/test/WB/10-ip1-w.txt', 'ra') as file:\n",
    "#    for line in file.readlines():\n",
    "    for x in range(10):\n",
    "        for y in range(784):\n",
    "            solver.net.params['ip1'][0].data[x,y] = file.readline()\n",
    "file.close()\n",
    "with open('examples/mlp/test/WB/10-ip1-b.txt', 'ra') as file:\n",
    "    for x in range(10):\n",
    "        solver.net.params['ip1'][1].data[x] = file.readline()\n",
    "file.close()"
   ]
  },
  {
   "cell_type": "code",
   "execution_count": 21,
   "metadata": {
    "collapsed": false
   },
   "outputs": [],
   "source": [
    "with open('examples/mlp/test/WB/10-ip2-w.txt', 'ra') as file:\n",
    "#    for line in file.readlines():\n",
    "    for x in range(10):\n",
    "        for y in range(10):\n",
    "            solver.net.params['ip2'][0].data[x,y] = file.readline()\n",
    "file.close()\n",
    "with open('examples/mlp/test/WB/10-ip2-b.txt', 'ra') as file:\n",
    "    for x in range(10):\n",
    "        solver.net.params['ip2'][1].data[x] = file.readline()\n",
    "file.close()"
   ]
  },
  {
   "cell_type": "code",
   "execution_count": 22,
   "metadata": {
    "collapsed": true
   },
   "outputs": [],
   "source": [
    "with open('examples/mlp/test/WB/10-ip3-w.txt', 'ra') as file:\n",
    "#    for line in file.readlines():\n",
    "    for x in range(10):\n",
    "        for y in range(10):\n",
    "            solver.net.params['ip3'][0].data[x,y] = file.readline()\n",
    "file.close()\n",
    "with open('examples/mlp/test/WB/10-ip3-b.txt', 'ra') as file:\n",
    "    for x in range(10):\n",
    "        solver.net.params['ip3'][1].data[x] = file.readline()\n",
    "file.close()"
   ]
  },
  {
   "cell_type": "code",
   "execution_count": null,
   "metadata": {
    "collapsed": false
   },
   "outputs": [],
   "source": [
    "solver.net.params['ip1'][0].data"
   ]
  },
  {
   "cell_type": "code",
   "execution_count": null,
   "metadata": {
    "collapsed": false
   },
   "outputs": [],
   "source": [
    "solver.net.params['ip1'][1].data"
   ]
  },
  {
   "cell_type": "code",
   "execution_count": 49,
   "metadata": {
    "collapsed": false
   },
   "outputs": [
    {
     "data": {
      "text/plain": [
       "{'loss': array(0.010295928455889225, dtype=float32)}"
      ]
     },
     "execution_count": 49,
     "metadata": {},
     "output_type": "execute_result"
    }
   ],
   "source": [
    "solver.net.forward()"
   ]
  },
  {
   "cell_type": "code",
   "execution_count": null,
   "metadata": {
    "collapsed": true
   },
   "outputs": [],
   "source": []
  },
  {
   "cell_type": "code",
   "execution_count": 46,
   "metadata": {
    "collapsed": false
   },
   "outputs": [
    {
     "name": "stdout",
     "output_type": "stream",
     "text": [
      "iteration 0 testing...\n",
      "iteration 500 testing...\n",
      "iteration 1000 testing...\n",
      "iteration 1500 testing...\n",
      "iteration 2000 testing...\n",
      "iteration 2500 testing...\n",
      "iteration 3000 testing...\n",
      "iteration 3500 testing...\n",
      "iteration 4000 testing...\n",
      "iteration 4500 testing...\n",
      "CPU times: user 41 s, sys: 7.66 s, total: 48.7 s\n",
      "Wall time: 37.4 s\n"
     ]
    }
   ],
   "source": [
    "%%time\n",
    "niter = 5000\n",
    "test_interval = 500\n",
    "train_loss = zeros(niter)\n",
    "test_acc = zeros(int(np.ceil(niter / test_interval)))\n",
    "output = zeros((niter, 8, 10))\n",
    "\n",
    "for it in range(niter):\n",
    "    solver.step(1)\n",
    "    \n",
    "    train_loss[it] = solver.net.blobs['loss'].data\n",
    "    \n",
    "    solver.test_nets[0].forward(start='ip1')\n",
    "    output[it] = solver.test_nets[0].blobs['ip3'].data[:8]\n",
    "    \n",
    "    if it % test_interval == 0:\n",
    "        print 'iteration', it, 'testing...'\n",
    "        correct = 0\n",
    "        for test_it in range(100):\n",
    "            solver.test_nets[0].forward()\n",
    "            correct += sum(solver.test_nets[0].blobs['ip3'].data.argmax(1) == solver.test_nets[0].blobs['label'].data)\n",
    "        test_acc[it // test_interval] = correct / 1e4"
   ]
  },
  {
   "cell_type": "code",
   "execution_count": 42,
   "metadata": {
    "collapsed": false
   },
   "outputs": [
    {
     "data": {
      "text/plain": [
       "<matplotlib.text.Text at 0x7f762c40bd50>"
      ]
     },
     "execution_count": 42,
     "metadata": {},
     "output_type": "execute_result"
    },
    {
     "data": {
      "image/png": "[encoded data removed]",
      "text/plain": [
       "<matplotlib.figure.Figure at 0x7f762c514a90>"
      ]
     },
     "metadata": {},
     "output_type": "display_data"
    }
   ],
   "source": [
    "_, ax1 = subplots()\n",
    "ax2 = ax1.twinx()\n",
    "ax1.plot(arange(niter), train_loss)\n",
    "ax2.plot(test_interval * arange(len(test_acc)), test_acc, 'r')\n",
    "ax1.set_xlabel('iteration')\n",
    "ax1.set_ylabel('train loss')\n",
    "ax2.set_ylabel('test accuracy')\n",
    "ax2.set_title('Test Accuracy: {:.4f}'.format(test_acc[-1]))"
   ]
  },
  {
   "cell_type": "code",
   "execution_count": 43,
   "metadata": {
    "collapsed": false
   },
   "outputs": [
    {
     "name": "stdout",
     "output_type": "stream",
     "text": [
      "std_feat1 =  0.0708199\n",
      "mean_feat1 =  0.0060153\n",
      "std_feat2 =  0.254906\n",
      "mean_feat2 =  0.0196035\n",
      "std_feat3 =  0.333\n",
      "mean_feat3 =  0.00193093\n"
     ]
    }
   ],
   "source": [
    "feat1 = solver.net.params['ip1'][0].data\n",
    "feat2 = solver.net.params['ip2'][0].data\n",
    "feat3 = solver.net.params['ip3'][0].data\n",
    "#feat4 = solver.net.params['ip4'][0].data\n",
    "\n",
    "std_feat1 = feat1.std()\n",
    "mean_feat1 = feat1.mean()\n",
    "print \"std_feat1 = \", std_feat1\n",
    "print \"mean_feat1 = \", mean_feat1\n",
    "std_feat2 = feat2.std()\n",
    "mean_feat2 = feat2.mean()\n",
    "print \"std_feat2 = \", std_feat2\n",
    "print \"mean_feat2 = \", mean_feat2\n",
    "std_feat3 = feat3.std()\n",
    "mean_feat3 = feat3.mean()\n",
    "print \"std_feat3 = \", std_feat3\n",
    "print \"mean_feat3 = \", mean_feat3\n",
    "#std_feat4 = feat4.std()\n",
    "#mean_feat4 = feat4.mean()\n",
    "#print \"std_feat4 = \", std_feat4\n",
    "#print \"mean_feat4 = \", mean_feat4"
   ]
  },
  {
   "cell_type": "code",
   "execution_count": 44,
   "metadata": {
    "collapsed": false
   },
   "outputs": [],
   "source": [
    "#train_net.params['ip1'][0].data[train_net.params['ip1'][0].data < (-1 * std_ip1)] = -1\n",
    "#train_net.params['ip1'][0].data[train_net.params['ip1'][0].data > (1 * std_ip1)] = 1\n",
    "for x in range(20):\n",
    "    for y in range(784):\n",
    "        if (solver.net.params['ip1'][0].data[x,y] >= (mean_feat1-std_feat1)) & (solver.net.params['ip1'][0].data[x,y] <= (mean_feat1+std_feat1)):\n",
    "            solver.net.params['ip1'][0].data[x,y] = mean_feat1\n",
    "#train_net.params['ip2'][0].data[train_net.params['ip2'][0].data < (-1 * std_ip2)] = -1\n",
    "#train_net.params['ip2'][0].data[train_net.params['ip2'][0].data > (1 * std_ip2)] = 1\n",
    "for x in range(50):\n",
    "    for y in range(20):\n",
    "        if (solver.net.params['ip2'][0].data[x,y] >= (mean_feat2-std_feat2)) & (solver.net.params['ip2'][0].data[x,y] <= (mean_feat2+std_feat2)):\n",
    "            solver.net.params['ip2'][0].data[x,y] = mean_feat2\n",
    "#train_net.params['ip3'][0].data[train_net.params['ip3'][0].data < (-1 * std_ip3)] = -1\n",
    "#train_net.params['ip3'][0].data[train_net.params['ip3'][0].data > (1 * std_ip3)] = 1\n",
    "for x in range(10):\n",
    "    for y in range(50):\n",
    "        if (solver.net.params['ip3'][0].data[x,y] >= (mean_feat3-std_feat3)) & (solver.net.params['ip3'][0].data[x,y] <= (mean_feat3+std_feat3)):\n",
    "            solver.net.params['ip3'][0].data[x,y] = mean_feat3\n",
    "#train_net.params['ip4'][0].data[train_net.params['ip4'][0].data < (-1 * std_ip4)] = -1\n",
    "#train_net.params['ip4'][0].data[train_net.params['ip4'][0].data > (1 * std_ip4)] = 1\n",
    "#for x in range(10):\n",
    "#    for y in range(128):\n",
    "#        if (train_net.params['ip4'][0].data[x,y] >= (-1 * std_ip4)) & (train_net.params['ip4'][0].data[x,y] <= (1 * std_ip4)):\n",
    "#            train_net.params['ip4'][0].data[x,y] = 0"
   ]
  },
  {
   "cell_type": "code",
   "execution_count": null,
   "metadata": {
    "collapsed": true
   },
   "outputs": [],
   "source": []
  }
 ],
 "metadata": {
  "kernelspec": {
   "display_name": "Python 2",
   "language": "python",
   "name": "python2"
  },
  "language_info": {
   "codemirror_mode": {
    "name": "ipython",
    "version": 2
   },
   "file_extension": ".py",
   "mimetype": "text/x-python",
   "name": "python",
   "nbconvert_exporter": "python",
   "pygments_lexer": "ipython2",
   "version": "2.7.6"
  }
 },
 "nbformat": 4,
 "nbformat_minor": 0
}

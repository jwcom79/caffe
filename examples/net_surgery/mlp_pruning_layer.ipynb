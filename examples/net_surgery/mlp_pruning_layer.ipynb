{
 "cells": [
  {
   "cell_type": "code",
   "execution_count": 1,
   "metadata": {
    "collapsed": false
   },
   "outputs": [],
   "source": [
    "import os\n",
    "import numpy as np\n",
    "caffe_root = '/home/flathead/bitbucket/mycaffe/'\n",
    "os.chdir('../../')\n",
    "import sys\n",
    "sys.path.insert(0, 'python')\n",
    "import caffe"
   ]
  },
  {
   "cell_type": "code",
   "execution_count": 2,
   "metadata": {
    "collapsed": true
   },
   "outputs": [],
   "source": [
    "from pylab import *\n",
    "%matplotlib inline"
   ]
  },
  {
   "cell_type": "code",
   "execution_count": 3,
   "metadata": {
    "collapsed": true
   },
   "outputs": [],
   "source": [
    "import matplotlib.pyplot as plt\n",
    "from numpy.random import normal"
   ]
  },
  {
   "cell_type": "code",
   "execution_count": null,
   "metadata": {
    "collapsed": true
   },
   "outputs": [],
   "source": [
    "caffe.set_mode_gpu()\n",
    "caffe.set_device(0)"
   ]
  },
  {
   "cell_type": "code",
   "execution_count": 4,
   "metadata": {
    "collapsed": false
   },
   "outputs": [],
   "source": [
    "net1 = caffe.Net('examples/mlp/test/mlp_train_test.prototxt',\n",
    "                'examples/mlp/test/test_iter_10000.caffemodel', \n",
    "                 caffe.TEST)"
   ]
  },
  {
   "cell_type": "code",
   "execution_count": 5,
   "metadata": {
    "collapsed": false
   },
   "outputs": [],
   "source": [
    "feat1 = net1.params['ip1'][0].data\n",
    "feat2 = net1.params['ip2'][0].data\n",
    "feat3 = net1.params['ip3'][0].data\n",
    "#feat4 = net1.params['ip4'][0].data"
   ]
  },
  {
   "cell_type": "code",
   "execution_count": 6,
   "metadata": {
    "collapsed": false,
    "scrolled": false
   },
   "outputs": [],
   "source": [
    "l1 = 200\n",
    "l2 = 200\n",
    "l3 = 10\n",
    "#l4 = 10"
   ]
  },
  {
   "cell_type": "code",
   "execution_count": 7,
   "metadata": {
    "collapsed": false
   },
   "outputs": [
    {
     "data": {
      "text/plain": [
       "'\\nplt.subplot(4,1,4)\\nplt.hist(feat4.flat, bins = 2000)\\nplt.title(\"Last layer\")\\n'"
      ]
     },
     "execution_count": 7,
     "metadata": {},
     "output_type": "execute_result"
    },
    {
     "data": {
      "image/png": "[encoded data removed]",
      "text/plain": [
       "<matplotlib.figure.Figure at 0x7febf5d65b90>"
      ]
     },
     "metadata": {},
     "output_type": "display_data"
    }
   ],
   "source": [
    "plt.figure(figsize=(15, 15))\n",
    "\n",
    "plt.subplot(4,1,1)\n",
    "plt.hist(feat1.flat, bins = 784)\n",
    "plt.title(\"Input layer\")\n",
    "\n",
    "plt.subplot(4,1,2)\n",
    "plt.hist(feat2.flat, bins = 500)\n",
    "plt.title(\"1'st layer\")\n",
    "\n",
    "plt.subplot(4,1,3)\n",
    "plt.hist(feat3.flat, bins = 500)\n",
    "plt.title(\"2'nd layer\")\n",
    "'''\n",
    "plt.subplot(4,1,4)\n",
    "plt.hist(feat4.flat, bins = 2000)\n",
    "plt.title(\"Last layer\")\n",
    "'''"
   ]
  },
  {
   "cell_type": "code",
   "execution_count": 8,
   "metadata": {
    "collapsed": false
   },
   "outputs": [
    {
     "data": {
      "text/plain": [
       "'    \\n#Neurons of Layer 4\\nmean_feat4 = 0\\nstd_feat4 = 0\\n\\nmean_feat4 = feat4.mean()\\nstd_feat4 = feat4.std()\\n'"
      ]
     },
     "execution_count": 8,
     "metadata": {},
     "output_type": "execute_result"
    }
   ],
   "source": [
    "#Layer 1\n",
    "mean_feat1 = 0\n",
    "std_feat1 = 0\n",
    "\n",
    "mean_feat1 = feat1.mean()\n",
    "std_feat1 = feat1.std()\n",
    "\n",
    "#Neurons of Layer2\n",
    "mean_feat2 = 0\n",
    "std_feat2 = 0\n",
    "\n",
    "mean_feat2 = feat2.mean()\n",
    "std_feat2 = feat2.std()\n",
    "#'''        \n",
    "#Neurons of Layer 3\n",
    "mean_feat3 = 0\n",
    "std_feat3 = 0\n",
    "\n",
    "mean_feat3 = feat3.mean()\n",
    "std_feat3 = feat3.std()\n",
    "'''    \n",
    "#Neurons of Layer 4\n",
    "mean_feat4 = 0\n",
    "std_feat4 = 0\n",
    "\n",
    "mean_feat4 = feat4.mean()\n",
    "std_feat4 = feat4.std()\n",
    "'''"
   ]
  },
  {
   "cell_type": "code",
   "execution_count": null,
   "metadata": {
    "collapsed": false
   },
   "outputs": [],
   "source": [
    "#Neurons of Layer 1\n",
    "posm_feat1 = [0] * l1\n",
    "negm_feat1 = [0] * l1\n",
    "poss_feat1 = [0] * l1\n",
    "negs_feat1 = [0] * l1\n",
    "\n",
    "for j in range(l1):\n",
    "    posm_feat1[j] = feat1[j][feat1[j] > 0].mean()\n",
    "    negm_feat1[j] = feat1[j][feat1[j] < 0].mean()\n",
    "    poss_feat1[j] = feat1[j][feat1[j] > 0].std()\n",
    "    negs_feat1[j] = feat1[j][feat1[j] < 0].std()\n",
    "    \n",
    "#Neurons of Layer 2\n",
    "posm_feat2 = [0] * l2\n",
    "negm_feat2 = [0] * l2\n",
    "poss_feat2 = [0] * l2\n",
    "negs_feat2 = [0] * l2\n",
    "\n",
    "for j in range(l2):\n",
    "    posm_feat2[j] = feat2[j][feat2[j] > 0].mean()\n",
    "    negm_feat2[j] = feat2[j][feat2[j] < 0].mean()\n",
    "    poss_feat2[j] = feat2[j][feat2[j] > 0].std()\n",
    "    negs_feat2[j] = feat2[j][feat2[j] < 0].std()\n",
    "\n",
    "#'''\n",
    "#Neurons of Layer 3\n",
    "posm_feat3 = [0] * l3\n",
    "negm_feat3 = [0] * l3\n",
    "poss_feat3 = [0] * l3\n",
    "negs_feat3 = [0] * l3\n",
    "\n",
    "for j in range(l3):\n",
    "    posm_feat3[j] = feat3[j][feat3[j] > 0].mean()\n",
    "    negm_feat3[j] = feat3[j][feat3[j] < 0].mean()\n",
    "    poss_feat3[j] = feat3[j][feat3[j] > 0].std()\n",
    "    negs_feat3[j] = feat3[j][feat3[j] < 0].std()\n",
    "#'''\n",
    "#Neurons of Layer 4\n",
    "posm_feat4 = [0] * l4\n",
    "negm_feat4 = [0] * l4\n",
    "poss_feat4 = [0] * l4\n",
    "negs_feat4 = [0] * l4\n",
    "\n",
    "for j in range(l4):\n",
    "    posm_feat4[j] = feat4[j][feat4[j] > 0].mean()\n",
    "    negm_feat4[j] = feat4[j][feat4[j] < 0].mean()\n",
    "    poss_feat4[j] = feat4[j][feat4[j] > 0].std()\n",
    "    negs_feat4[j] = feat4[j][feat4[j] < 0].std()\n",
    "#'''"
   ]
  },
  {
   "cell_type": "code",
   "execution_count": 9,
   "metadata": {
    "collapsed": false
   },
   "outputs": [
    {
     "data": {
      "text/plain": [
       "'            \\nfor x in range(l4):\\n    for y in range(l3):\\n        if ((feat4[x,y] >= -std_feat4 * rate) & (feat4[x,y] <= std_feat4 * rate)):\\n            feat4[x,y] = 0\\n'"
      ]
     },
     "execution_count": 9,
     "metadata": {},
     "output_type": "execute_result"
    }
   ],
   "source": [
    "# rate * std range zero pruning\n",
    "rate = 0.6\n",
    "\n",
    "for x in range(l1):\n",
    "    for y in range(784):\n",
    "        if ((feat1[x,y] >= -std_feat1 * rate) & (feat1[x,y] <= rate * std_feat1)):\n",
    "            feat1[x,y] = 0\n",
    "        \n",
    "for x in range(l2):\n",
    "    for y in range(l1):\n",
    "        if ((feat2[x,y] >= -std_feat2 * rate) & (feat2[x,y] <= rate * std_feat2)):\n",
    "            feat2[x,y] = 0\n",
    "#'''   \n",
    "for x in range(l3):\n",
    "    for y in range(l2):\n",
    "        if ((feat3[x,y] >= -std_feat3 * rate) & (feat3[x,y] <= std_feat3 * rate)):\n",
    "            feat3[x,y] = 0\n",
    "'''            \n",
    "for x in range(l4):\n",
    "    for y in range(l3):\n",
    "        if ((feat4[x,y] >= -std_feat4 * rate) & (feat4[x,y] <= std_feat4 * rate)):\n",
    "            feat4[x,y] = 0\n",
    "'''"
   ]
  },
  {
   "cell_type": "code",
   "execution_count": 10,
   "metadata": {
    "collapsed": true
   },
   "outputs": [],
   "source": [
    "net1.save('examples/mlp/test/zeropr/pruned.caffemodel')"
   ]
  },
  {
   "cell_type": "code",
   "execution_count": 12,
   "metadata": {
    "collapsed": false
   },
   "outputs": [
    {
     "name": "stdout",
     "output_type": "stream",
     "text": [
      "(0.41424107142857142, 0.38850000000000001, 0.40400000000000003)\n"
     ]
    }
   ],
   "source": [
    "ratio = zeros(3)\n",
    "\n",
    "for x in range(l1):\n",
    "    ratio[0] += (feat1[x] ==  0).sum()\n",
    "\n",
    "for x in range(l2):\n",
    "    ratio[1] += (feat2[x] ==  0).sum()\n",
    "    \n",
    "for x in range(l3):\n",
    "    ratio[2] += (feat3[x] ==  0).sum()\n",
    "    \n",
    "#for x in range(l4):\n",
    "#    ratio[3] += (feat4[x] ==  0).sum()\n",
    "\n",
    "print (ratio[0] / (784 * l1), ratio[1] / (l2 * l1), ratio[2] / (l3 * l2))#, ratio[3] / (l4 * l3))"
   ]
  },
  {
   "cell_type": "code",
   "execution_count": null,
   "metadata": {
    "collapsed": false
   },
   "outputs": [],
   "source": [
    "#Neurons of Layer 1\n",
    "posm_feat1 = [0] * l1\n",
    "negm_feat1 = [0] * l1\n",
    "poss_feat1 = [0] * l1\n",
    "negs_feat1 = [0] * l1\n",
    "\n",
    "posm_feat1 = feat1[feat1 > 0].mean()\n",
    "negm_feat1 = feat1[feat1 < 0].mean()\n",
    "poss_feat1 = feat1[feat1 > 0].std()\n",
    "negs_feat1 = feat1[feat1 < 0].std()\n",
    "    \n",
    "#Neurons of Layer 2\n",
    "posm_feat2 = [0] * l2\n",
    "negm_feat2 = [0] * l2\n",
    "poss_feat2 = [0] * l2\n",
    "negs_feat2 = [0] * l2\n",
    "\n",
    "\n",
    "posm_feat2 = feat2[feat2 > 0].mean()\n",
    "negm_feat2 = feat2[feat2 < 0].mean()\n",
    "poss_feat2 = feat2[feat2 > 0].std()\n",
    "negs_feat2 = feat2[feat2 < 0].std()\n",
    "\n",
    "#'''\n",
    "#Neurons of Layer 3\n",
    "posm_feat3 = [0] * l3\n",
    "negm_feat3 = [0] * l3\n",
    "poss_feat3 = [0] * l3\n",
    "negs_feat3 = [0] * l3\n",
    "\n",
    "posm_feat3 = feat3[feat3 > 0].mean()\n",
    "negm_feat3 = feat3[feat3 < 0].mean()\n",
    "poss_feat3 = feat3[feat3 > 0].std()\n",
    "negs_feat3 = feat3[feat3 < 0].std()\n",
    "#'''\n",
    "#Neurons of Layer 4\n",
    "posm_feat4 = [0] * l4\n",
    "negm_feat4 = [0] * l4\n",
    "poss_feat4 = [0] * l4\n",
    "negs_feat4 = [0] * l4\n",
    "\n",
    "posm_feat4 = feat4[feat4 > 0].mean()\n",
    "negm_feat4 = feat4[feat4 < 0].mean()\n",
    "poss_feat4 = feat4[feat4 > 0].std()\n",
    "negs_feat4 = feat4[feat4 < 0].std()\n",
    "#'''"
   ]
  },
  {
   "cell_type": "code",
   "execution_count": null,
   "metadata": {
    "collapsed": false
   },
   "outputs": [],
   "source": [
    "# Mean value Quantization\n",
    "\n",
    "for x in range(l1):\n",
    "    for y in range(784):\n",
    "        if (feat1[x, y] > 0):\n",
    "            feat1[x,y] = posm_feat1\n",
    "        if (feat1[x, y] < 0):\n",
    "            feat1[x,y] = negm_feat1\n",
    "#'''         \n",
    "for x in range(l2):\n",
    "    for y in range(l1):\n",
    "        if (feat2[x, y] > 0):\n",
    "            feat2[x,y] = posm_feat2\n",
    "        if (feat2[x, y] < 0):\n",
    "            feat2[x,y] = negm_feat2\n",
    "\n",
    "#'''\n",
    "for x in range(l3):\n",
    "    for y in range(l2):\n",
    "        if (feat3[x, y] > 0):\n",
    "            feat3[x,y] = posm_feat3\n",
    "        if (feat3[x, y] < 0):\n",
    "            feat3[x,y] = negm_feat3\n",
    "#'''            \n",
    "for x in range(l4):\n",
    "    for y in range(l3):\n",
    "        if (feat4[x, y] > 0):\n",
    "            feat4[x,y] = posm_feat4\n",
    "        if (feat4[x, y] < 0):\n",
    "            feat4[x,y] = negm_feat4\n",
    "#'''"
   ]
  },
  {
   "cell_type": "code",
   "execution_count": null,
   "metadata": {
    "collapsed": false
   },
   "outputs": [],
   "source": [
    "net1.save('examples/mlp/zeropr/quantization.caffemodel')"
   ]
  },
  {
   "cell_type": "code",
   "execution_count": null,
   "metadata": {
    "collapsed": false
   },
   "outputs": [],
   "source": [
    "# same abolute values of posm and negm\n",
    "#'''\n",
    "for x in range(l1):\n",
    "    for y in range(784):\n",
    "        if (feat1[x, y] > 0):\n",
    "            feat1[x,y] = (posm_feat1[x] - negm_feat1[x]) / 2\n",
    "        if (feat1[x, y] < 0):\n",
    "            feat1[x,y] = (negm_feat1[x] - posm_feat1[x]) / 2\n",
    "#'''            \n",
    "for x in range(l2):\n",
    "    for y in range(l1):\n",
    "        if (feat2[x, y] > 0):\n",
    "            feat2[x,y] = (posm_feat2[x] - negm_feat2[x]) / 2\n",
    "        if (feat2[x, y] < 0):\n",
    "            feat2[x,y] = (negm_feat2[x] - posm_feat2[x]) / 2\n",
    "#'''           \n",
    "for x in range(l3):\n",
    "    for y in range(l2):\n",
    "        if (feat3[x, y] > 0):\n",
    "            feat3[x,y] = (posm_feat3[x] - negm_feat3[x]) / 2\n",
    "        if (feat3[x, y] < 0):\n",
    "            feat3[x,y] = (negm_feat3[x] - posm_feat3[x]) / 2\n",
    "#'''            \n",
    "for x in range(l4):\n",
    "    for y in range(l3):\n",
    "        if (feat4[x, y] > 0):\n",
    "            feat4[x,y] = (posm_feat4[x] - negm_feat4[x]) / 2\n",
    "        if (feat4[x, y] < 0):\n",
    "            feat4[x,y] = (negm_feat4[x] - posm_feat4[x]) / 2\n",
    "#'''"
   ]
  },
  {
   "cell_type": "code",
   "execution_count": null,
   "metadata": {
    "collapsed": true
   },
   "outputs": [],
   "source": [
    "net1.save('examples/mlp/zeropr/sameabs.caffemodel')"
   ]
  },
  {
   "cell_type": "code",
   "execution_count": null,
   "metadata": {
    "collapsed": true
   },
   "outputs": [],
   "source": []
  }
 ],
 "metadata": {
  "kernelspec": {
   "display_name": "Python 2",
   "language": "python",
   "name": "python2"
  },
  "language_info": {
   "codemirror_mode": {
    "name": "ipython",
    "version": 2
   },
   "file_extension": ".py",
   "mimetype": "text/x-python",
   "name": "python",
   "nbconvert_exporter": "python",
   "pygments_lexer": "ipython2",
   "version": "2.7.6"
  }
 },
 "nbformat": 4,
 "nbformat_minor": 0
}
